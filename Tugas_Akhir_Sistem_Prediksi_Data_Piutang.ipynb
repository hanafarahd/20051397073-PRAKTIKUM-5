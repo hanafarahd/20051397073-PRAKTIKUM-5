{
  "cells": [
    {
      "cell_type": "markdown",
      "metadata": {
        "id": "view-in-github",
        "colab_type": "text"
      },
      "source": [
        "<a href=\"https://colab.research.google.com/github/hanafarahd/20051397073-PRAKTIKUM-5/blob/main/Tugas_Akhir_Sistem_Prediksi_Data_Piutang.ipynb\" target=\"_parent\"><img src=\"https://colab.research.google.com/assets/colab-badge.svg\" alt=\"Open In Colab\"/></a>"
      ]
    },
    {
      "cell_type": "markdown",
      "metadata": {
        "id": "JVFDOaG6BC3Z"
      },
      "source": [
        "# Import Modul + Library"
      ]
    },
    {
      "cell_type": "code",
      "execution_count": null,
      "metadata": {
        "id": "VomBKYv6BHsN"
      },
      "outputs": [],
      "source": [
        "import numpy as np\n",
        "import pandas as pd\n",
        "from datetime import datetime\n",
        "import matplotlib.pyplot as plt\n",
        "import plotly.graph_objs as go\n",
        "import plotly.tools as tls\n",
        "from plotly.offline import iplot, init_notebook_mode\n",
        "import seaborn as sns\n",
        "\n",
        "from sklearn.metrics import confusion_matrix\n",
        "from sklearn.preprocessing import StandardScaler\n",
        "import category_encoders as ce\n",
        "from sklearn.model_selection import train_test_split\n",
        "from sklearn.metrics import accuracy_score\n",
        "from sklearn.metrics import recall_score\n",
        "from sklearn.metrics import precision_score\n",
        "\n",
        "from sklearn.naive_bayes import GaussianNB\n",
        "from sklearn.neighbors import KNeighborsClassifier"
      ]
    },
    {
      "cell_type": "code",
      "execution_count": null,
      "metadata": {
        "colab": {
          "base_uri": "https://localhost:8080/"
        },
        "id": "iXfsyY1mBNKp",
        "outputId": "972a6937-3688-4047-a218-c8c034aa10a2"
      },
      "outputs": [
        {
          "output_type": "stream",
          "name": "stdout",
          "text": [
            "Collecting category_encoders\n",
            "  Downloading category_encoders-2.6.3-py2.py3-none-any.whl (81 kB)\n",
            "\u001b[?25l     \u001b[90m━━━━━━━━━━━━━━━━━━━━━━━━━━━━━━━━━━━━━━━━\u001b[0m \u001b[32m0.0/81.9 kB\u001b[0m \u001b[31m?\u001b[0m eta \u001b[36m-:--:--\u001b[0m\r\u001b[2K     \u001b[90m━━━━━━━━━━━━━━━━━━━━━━━━━━━━━━━━━━━━━━━━\u001b[0m \u001b[32m81.9/81.9 kB\u001b[0m \u001b[31m2.2 MB/s\u001b[0m eta \u001b[36m0:00:00\u001b[0m\n",
            "\u001b[?25hRequirement already satisfied: numpy>=1.14.0 in /usr/local/lib/python3.10/dist-packages (from category_encoders) (1.25.2)\n",
            "Requirement already satisfied: scikit-learn>=0.20.0 in /usr/local/lib/python3.10/dist-packages (from category_encoders) (1.2.2)\n",
            "Requirement already satisfied: scipy>=1.0.0 in /usr/local/lib/python3.10/dist-packages (from category_encoders) (1.11.4)\n",
            "Requirement already satisfied: statsmodels>=0.9.0 in /usr/local/lib/python3.10/dist-packages (from category_encoders) (0.14.2)\n",
            "Requirement already satisfied: pandas>=1.0.5 in /usr/local/lib/python3.10/dist-packages (from category_encoders) (2.0.3)\n",
            "Requirement already satisfied: patsy>=0.5.1 in /usr/local/lib/python3.10/dist-packages (from category_encoders) (0.5.6)\n",
            "Requirement already satisfied: python-dateutil>=2.8.2 in /usr/local/lib/python3.10/dist-packages (from pandas>=1.0.5->category_encoders) (2.8.2)\n",
            "Requirement already satisfied: pytz>=2020.1 in /usr/local/lib/python3.10/dist-packages (from pandas>=1.0.5->category_encoders) (2023.4)\n",
            "Requirement already satisfied: tzdata>=2022.1 in /usr/local/lib/python3.10/dist-packages (from pandas>=1.0.5->category_encoders) (2024.1)\n",
            "Requirement already satisfied: six in /usr/local/lib/python3.10/dist-packages (from patsy>=0.5.1->category_encoders) (1.16.0)\n",
            "Requirement already satisfied: joblib>=1.1.1 in /usr/local/lib/python3.10/dist-packages (from scikit-learn>=0.20.0->category_encoders) (1.4.2)\n",
            "Requirement already satisfied: threadpoolctl>=2.0.0 in /usr/local/lib/python3.10/dist-packages (from scikit-learn>=0.20.0->category_encoders) (3.5.0)\n",
            "Requirement already satisfied: packaging>=21.3 in /usr/local/lib/python3.10/dist-packages (from statsmodels>=0.9.0->category_encoders) (24.0)\n",
            "Installing collected packages: category_encoders\n",
            "Successfully installed category_encoders-2.6.3\n"
          ]
        }
      ],
      "source": [
        "!pip install category_encoders"
      ]
    },
    {
      "cell_type": "code",
      "execution_count": null,
      "metadata": {
        "colab": {
          "base_uri": "https://localhost:8080/"
        },
        "id": "x_C4oKYmBQc5",
        "outputId": "2c69a755-5e65-4bb8-b6e4-d86b0ddd670f"
      },
      "outputs": [
        {
          "output_type": "stream",
          "name": "stdout",
          "text": [
            "Requirement already satisfied: scikit-learn in /usr/local/lib/python3.10/dist-packages (1.2.2)\n",
            "Collecting scikit-learn\n",
            "  Downloading scikit_learn-1.5.0-cp310-cp310-manylinux_2_17_x86_64.manylinux2014_x86_64.whl (13.3 MB)\n",
            "\u001b[2K     \u001b[90m━━━━━━━━━━━━━━━━━━━━━━━━━━━━━━━━━━━━━━━━\u001b[0m \u001b[32m13.3/13.3 MB\u001b[0m \u001b[31m69.8 MB/s\u001b[0m eta \u001b[36m0:00:00\u001b[0m\n",
            "\u001b[?25hRequirement already satisfied: numpy>=1.19.5 in /usr/local/lib/python3.10/dist-packages (from scikit-learn) (1.25.2)\n",
            "Requirement already satisfied: scipy>=1.6.0 in /usr/local/lib/python3.10/dist-packages (from scikit-learn) (1.11.4)\n",
            "Requirement already satisfied: joblib>=1.2.0 in /usr/local/lib/python3.10/dist-packages (from scikit-learn) (1.4.2)\n",
            "Requirement already satisfied: threadpoolctl>=3.1.0 in /usr/local/lib/python3.10/dist-packages (from scikit-learn) (3.5.0)\n",
            "Installing collected packages: scikit-learn\n",
            "  Attempting uninstall: scikit-learn\n",
            "    Found existing installation: scikit-learn 1.2.2\n",
            "    Uninstalling scikit-learn-1.2.2:\n",
            "      Successfully uninstalled scikit-learn-1.2.2\n",
            "Successfully installed scikit-learn-1.5.0\n"
          ]
        }
      ],
      "source": [
        "!pip install --upgrade scikit-learn"
      ]
    },
    {
      "cell_type": "markdown",
      "metadata": {
        "id": "MKXiuC-xBk9Z"
      },
      "source": [
        "# Mount dataset dari Google Drive"
      ]
    },
    {
      "cell_type": "code",
      "execution_count": null,
      "metadata": {
        "colab": {
          "base_uri": "https://localhost:8080/"
        },
        "id": "n4Fdx2K_BmWc",
        "outputId": "cdf1843c-5b05-484c-c418-c6115c7aba8f"
      },
      "outputs": [
        {
          "output_type": "stream",
          "name": "stdout",
          "text": [
            "Drive already mounted at /content/drive; to attempt to forcibly remount, call drive.mount(\"/content/drive\", force_remount=True).\n"
          ]
        }
      ],
      "source": [
        "from google.colab import drive\n",
        "drive.mount('/content/drive')"
      ]
    },
    {
      "cell_type": "code",
      "execution_count": null,
      "metadata": {
        "id": "qvmNWukhBwS3"
      },
      "outputs": [],
      "source": [
        "df = pd.read_excel('/content/Aging Ar + Tracking DO Okt 2022 SURABAYA.xlsx')"
      ]
    },
    {
      "cell_type": "code",
      "execution_count": null,
      "metadata": {
        "id": "gwhn0KN-B0QH"
      },
      "outputs": [],
      "source": [
        "path= '/content/Aging Ar + Tracking DO Okt 2022 SURABAYA.xlsx'\n",
        "\n",
        "df_dataset = pd.read_excel(path)"
      ]
    },
    {
      "cell_type": "code",
      "execution_count": null,
      "metadata": {
        "colab": {
          "base_uri": "https://localhost:8080/",
          "height": 791
        },
        "id": "WU8-LeU3B5Um",
        "outputId": "a013207e-24cf-4b98-8f26-5cd43555c484"
      },
      "outputs": [
        {
          "output_type": "execute_result",
          "data": {
            "text/plain": [
              "     Customer Code  Customer X             Customer Name Trans Date  \\\n",
              "0        C10-00002     Reguler   2 OSCAR APT. (SURABAYA) 2022-10-06   \n",
              "1        C10-00002     Reguler   2 OSCAR APT. (SURABAYA) 2022-10-07   \n",
              "2        C10-00012     Reguler      AGRIPA APT(SURABAYA) 2022-10-07   \n",
              "3        C10-00016     Reguler           BONNET SWALAYAN 2022-09-12   \n",
              "4        C10-00029     Reguler     ALISA APT. (MOJOARUM) 2022-09-12   \n",
              "...            ...         ...                       ...        ...   \n",
              "7633     C10-X6243  Customer X  PT.HERO SUPERMARKET TBK. 2016-03-31   \n",
              "7634     C10-X6243  Customer X  PT.HERO SUPERMARKET TBK. 2016-03-31   \n",
              "7635     C10-X6243  Customer X  PT.HERO SUPERMARKET TBK. 2016-03-31   \n",
              "7636     C10-X6243  Customer X  PT.HERO SUPERMARKET TBK. 2016-03-31   \n",
              "7637     C10-X9999  Customer X           CUSTOMER X 2018 2018-12-31   \n",
              "\n",
              "       Nomor Faktur Pajak Invoice    Voucher Type Jual Kode Salesman  \\\n",
              "0     010.008-22.04800051  821043     777683   Reguler             4   \n",
              "1     010.008-22.04800198  821372     777830   Reguler             4   \n",
              "2     010.008-22.04800174  821237     777806   Reguler             4   \n",
              "3     010.008-22.04797213  818011     774846   Reguler            68   \n",
              "4     010.008-22.04797278  818252     774911   Reguler            45   \n",
              "...                   ...     ...        ...       ...           ...   \n",
              "7633                  NaN     NaN  MJ.022243   Reguler         RP001   \n",
              "7634                  NaN     NaN  MJ.022254   Reguler         RP001   \n",
              "7635                  NaN     NaN  MJ.022257   Reguler         RP001   \n",
              "7636                  NaN     NaN  MJ.022259   Reguler         RP001   \n",
              "7637                  NaN     NaN  MJ.039396   Reguler         RP001   \n",
              "\n",
              "           Nama Salesman  ...     Nama Territory   Due Date  Invoice Amount  \\\n",
              "0      Geger Harianto S.  ...  Surabaya Tengah 1 2022-10-27       823173.78   \n",
              "1      Geger Harianto S.  ...  Surabaya Tengah 1 2022-10-28       318792.00   \n",
              "2      Geger Harianto S.  ...  Surabaya Tengah 1 2022-10-14       594738.00   \n",
              "3     Amilatatus Solecha  ...   Surabaya Timur 2 2022-10-03      1070040.00   \n",
              "4            Kokok Teguh  ...   Surabaya Timur 1 2022-10-03       378674.28   \n",
              "...                  ...  ...                ...        ...             ...   \n",
              "7633     Reclass Piutang  ...  Surabaya Tengah 2 2014-02-07       114400.00   \n",
              "7634     Reclass Piutang  ...  Surabaya Tengah 2 2014-04-29        57200.00   \n",
              "7635     Reclass Piutang  ...  Surabaya Tengah 2 2014-05-20        76808.00   \n",
              "7636     Reclass Piutang  ...  Surabaya Tengah 2 2014-06-20        68031.00   \n",
              "7637     Reclass Piutang  ...  Surabaya Tengah 1 2018-12-31       -70856.34   \n",
              "\n",
              "     Settlement Outstanding AR  Cut Off Date  Umur Piutang ( Hari )  Aging  \\\n",
              "0           0.0      823173.78    2022-10-18                     12    ≤30   \n",
              "1           0.0      318792.00    2022-10-18                     11    ≤30   \n",
              "2           0.0      594738.00    2022-10-18                     11    ≤30   \n",
              "3     1060000.0       10040.00    2022-10-18                     36  31-60   \n",
              "4      378674.0           0.28    2022-10-18                     36  31-60   \n",
              "...         ...            ...           ...                    ...    ...   \n",
              "7633        0.0      114400.00    2022-10-18                   2392   >120   \n",
              "7634        0.0       57200.00    2022-10-18                   2392   >120   \n",
              "7635        0.0       76808.00    2022-10-18                   2392   >120   \n",
              "7636        0.0       68031.00    2022-10-18                   2392   >120   \n",
              "7637        0.0      -70856.34    2022-10-18                   1387   >120   \n",
              "\n",
              "        Cabang  Durasi Keterlambatan  \n",
              "0     Surabaya                  -9.0  \n",
              "1     Surabaya                 -10.0  \n",
              "2     Surabaya                   4.0  \n",
              "3     Surabaya                  15.0  \n",
              "4     Surabaya                  15.0  \n",
              "...        ...                   ...  \n",
              "7633  Surabaya                   NaN  \n",
              "7634  Surabaya                   NaN  \n",
              "7635  Surabaya                   NaN  \n",
              "7636  Surabaya                   NaN  \n",
              "7637  Surabaya                   NaN  \n",
              "\n",
              "[7638 rows x 23 columns]"
            ],
            "text/html": [
              "\n",
              "  <div id=\"df-38cfb6f4-f3d8-4515-9fc6-af165c93c8e2\" class=\"colab-df-container\">\n",
              "    <div>\n",
              "<style scoped>\n",
              "    .dataframe tbody tr th:only-of-type {\n",
              "        vertical-align: middle;\n",
              "    }\n",
              "\n",
              "    .dataframe tbody tr th {\n",
              "        vertical-align: top;\n",
              "    }\n",
              "\n",
              "    .dataframe thead th {\n",
              "        text-align: right;\n",
              "    }\n",
              "</style>\n",
              "<table border=\"1\" class=\"dataframe\">\n",
              "  <thead>\n",
              "    <tr style=\"text-align: right;\">\n",
              "      <th></th>\n",
              "      <th>Customer Code</th>\n",
              "      <th>Customer X</th>\n",
              "      <th>Customer Name</th>\n",
              "      <th>Trans Date</th>\n",
              "      <th>Nomor Faktur Pajak</th>\n",
              "      <th>Invoice</th>\n",
              "      <th>Voucher</th>\n",
              "      <th>Type Jual</th>\n",
              "      <th>Kode Salesman</th>\n",
              "      <th>Nama Salesman</th>\n",
              "      <th>...</th>\n",
              "      <th>Nama Territory</th>\n",
              "      <th>Due Date</th>\n",
              "      <th>Invoice Amount</th>\n",
              "      <th>Settlement</th>\n",
              "      <th>Outstanding AR</th>\n",
              "      <th>Cut Off Date</th>\n",
              "      <th>Umur Piutang ( Hari )</th>\n",
              "      <th>Aging</th>\n",
              "      <th>Cabang</th>\n",
              "      <th>Durasi Keterlambatan</th>\n",
              "    </tr>\n",
              "  </thead>\n",
              "  <tbody>\n",
              "    <tr>\n",
              "      <th>0</th>\n",
              "      <td>C10-00002</td>\n",
              "      <td>Reguler</td>\n",
              "      <td>2 OSCAR APT. (SURABAYA)</td>\n",
              "      <td>2022-10-06</td>\n",
              "      <td>010.008-22.04800051</td>\n",
              "      <td>821043</td>\n",
              "      <td>777683</td>\n",
              "      <td>Reguler</td>\n",
              "      <td>4</td>\n",
              "      <td>Geger Harianto S.</td>\n",
              "      <td>...</td>\n",
              "      <td>Surabaya Tengah 1</td>\n",
              "      <td>2022-10-27</td>\n",
              "      <td>823173.78</td>\n",
              "      <td>0.0</td>\n",
              "      <td>823173.78</td>\n",
              "      <td>2022-10-18</td>\n",
              "      <td>12</td>\n",
              "      <td>≤30</td>\n",
              "      <td>Surabaya</td>\n",
              "      <td>-9.0</td>\n",
              "    </tr>\n",
              "    <tr>\n",
              "      <th>1</th>\n",
              "      <td>C10-00002</td>\n",
              "      <td>Reguler</td>\n",
              "      <td>2 OSCAR APT. (SURABAYA)</td>\n",
              "      <td>2022-10-07</td>\n",
              "      <td>010.008-22.04800198</td>\n",
              "      <td>821372</td>\n",
              "      <td>777830</td>\n",
              "      <td>Reguler</td>\n",
              "      <td>4</td>\n",
              "      <td>Geger Harianto S.</td>\n",
              "      <td>...</td>\n",
              "      <td>Surabaya Tengah 1</td>\n",
              "      <td>2022-10-28</td>\n",
              "      <td>318792.00</td>\n",
              "      <td>0.0</td>\n",
              "      <td>318792.00</td>\n",
              "      <td>2022-10-18</td>\n",
              "      <td>11</td>\n",
              "      <td>≤30</td>\n",
              "      <td>Surabaya</td>\n",
              "      <td>-10.0</td>\n",
              "    </tr>\n",
              "    <tr>\n",
              "      <th>2</th>\n",
              "      <td>C10-00012</td>\n",
              "      <td>Reguler</td>\n",
              "      <td>AGRIPA APT(SURABAYA)</td>\n",
              "      <td>2022-10-07</td>\n",
              "      <td>010.008-22.04800174</td>\n",
              "      <td>821237</td>\n",
              "      <td>777806</td>\n",
              "      <td>Reguler</td>\n",
              "      <td>4</td>\n",
              "      <td>Geger Harianto S.</td>\n",
              "      <td>...</td>\n",
              "      <td>Surabaya Tengah 1</td>\n",
              "      <td>2022-10-14</td>\n",
              "      <td>594738.00</td>\n",
              "      <td>0.0</td>\n",
              "      <td>594738.00</td>\n",
              "      <td>2022-10-18</td>\n",
              "      <td>11</td>\n",
              "      <td>≤30</td>\n",
              "      <td>Surabaya</td>\n",
              "      <td>4.0</td>\n",
              "    </tr>\n",
              "    <tr>\n",
              "      <th>3</th>\n",
              "      <td>C10-00016</td>\n",
              "      <td>Reguler</td>\n",
              "      <td>BONNET SWALAYAN</td>\n",
              "      <td>2022-09-12</td>\n",
              "      <td>010.008-22.04797213</td>\n",
              "      <td>818011</td>\n",
              "      <td>774846</td>\n",
              "      <td>Reguler</td>\n",
              "      <td>68</td>\n",
              "      <td>Amilatatus Solecha</td>\n",
              "      <td>...</td>\n",
              "      <td>Surabaya Timur 2</td>\n",
              "      <td>2022-10-03</td>\n",
              "      <td>1070040.00</td>\n",
              "      <td>1060000.0</td>\n",
              "      <td>10040.00</td>\n",
              "      <td>2022-10-18</td>\n",
              "      <td>36</td>\n",
              "      <td>31-60</td>\n",
              "      <td>Surabaya</td>\n",
              "      <td>15.0</td>\n",
              "    </tr>\n",
              "    <tr>\n",
              "      <th>4</th>\n",
              "      <td>C10-00029</td>\n",
              "      <td>Reguler</td>\n",
              "      <td>ALISA APT. (MOJOARUM)</td>\n",
              "      <td>2022-09-12</td>\n",
              "      <td>010.008-22.04797278</td>\n",
              "      <td>818252</td>\n",
              "      <td>774911</td>\n",
              "      <td>Reguler</td>\n",
              "      <td>45</td>\n",
              "      <td>Kokok Teguh</td>\n",
              "      <td>...</td>\n",
              "      <td>Surabaya Timur 1</td>\n",
              "      <td>2022-10-03</td>\n",
              "      <td>378674.28</td>\n",
              "      <td>378674.0</td>\n",
              "      <td>0.28</td>\n",
              "      <td>2022-10-18</td>\n",
              "      <td>36</td>\n",
              "      <td>31-60</td>\n",
              "      <td>Surabaya</td>\n",
              "      <td>15.0</td>\n",
              "    </tr>\n",
              "    <tr>\n",
              "      <th>...</th>\n",
              "      <td>...</td>\n",
              "      <td>...</td>\n",
              "      <td>...</td>\n",
              "      <td>...</td>\n",
              "      <td>...</td>\n",
              "      <td>...</td>\n",
              "      <td>...</td>\n",
              "      <td>...</td>\n",
              "      <td>...</td>\n",
              "      <td>...</td>\n",
              "      <td>...</td>\n",
              "      <td>...</td>\n",
              "      <td>...</td>\n",
              "      <td>...</td>\n",
              "      <td>...</td>\n",
              "      <td>...</td>\n",
              "      <td>...</td>\n",
              "      <td>...</td>\n",
              "      <td>...</td>\n",
              "      <td>...</td>\n",
              "      <td>...</td>\n",
              "    </tr>\n",
              "    <tr>\n",
              "      <th>7633</th>\n",
              "      <td>C10-X6243</td>\n",
              "      <td>Customer X</td>\n",
              "      <td>PT.HERO SUPERMARKET TBK.</td>\n",
              "      <td>2016-03-31</td>\n",
              "      <td>NaN</td>\n",
              "      <td>NaN</td>\n",
              "      <td>MJ.022243</td>\n",
              "      <td>Reguler</td>\n",
              "      <td>RP001</td>\n",
              "      <td>Reclass Piutang</td>\n",
              "      <td>...</td>\n",
              "      <td>Surabaya Tengah 2</td>\n",
              "      <td>2014-02-07</td>\n",
              "      <td>114400.00</td>\n",
              "      <td>0.0</td>\n",
              "      <td>114400.00</td>\n",
              "      <td>2022-10-18</td>\n",
              "      <td>2392</td>\n",
              "      <td>&gt;120</td>\n",
              "      <td>Surabaya</td>\n",
              "      <td>NaN</td>\n",
              "    </tr>\n",
              "    <tr>\n",
              "      <th>7634</th>\n",
              "      <td>C10-X6243</td>\n",
              "      <td>Customer X</td>\n",
              "      <td>PT.HERO SUPERMARKET TBK.</td>\n",
              "      <td>2016-03-31</td>\n",
              "      <td>NaN</td>\n",
              "      <td>NaN</td>\n",
              "      <td>MJ.022254</td>\n",
              "      <td>Reguler</td>\n",
              "      <td>RP001</td>\n",
              "      <td>Reclass Piutang</td>\n",
              "      <td>...</td>\n",
              "      <td>Surabaya Tengah 2</td>\n",
              "      <td>2014-04-29</td>\n",
              "      <td>57200.00</td>\n",
              "      <td>0.0</td>\n",
              "      <td>57200.00</td>\n",
              "      <td>2022-10-18</td>\n",
              "      <td>2392</td>\n",
              "      <td>&gt;120</td>\n",
              "      <td>Surabaya</td>\n",
              "      <td>NaN</td>\n",
              "    </tr>\n",
              "    <tr>\n",
              "      <th>7635</th>\n",
              "      <td>C10-X6243</td>\n",
              "      <td>Customer X</td>\n",
              "      <td>PT.HERO SUPERMARKET TBK.</td>\n",
              "      <td>2016-03-31</td>\n",
              "      <td>NaN</td>\n",
              "      <td>NaN</td>\n",
              "      <td>MJ.022257</td>\n",
              "      <td>Reguler</td>\n",
              "      <td>RP001</td>\n",
              "      <td>Reclass Piutang</td>\n",
              "      <td>...</td>\n",
              "      <td>Surabaya Tengah 2</td>\n",
              "      <td>2014-05-20</td>\n",
              "      <td>76808.00</td>\n",
              "      <td>0.0</td>\n",
              "      <td>76808.00</td>\n",
              "      <td>2022-10-18</td>\n",
              "      <td>2392</td>\n",
              "      <td>&gt;120</td>\n",
              "      <td>Surabaya</td>\n",
              "      <td>NaN</td>\n",
              "    </tr>\n",
              "    <tr>\n",
              "      <th>7636</th>\n",
              "      <td>C10-X6243</td>\n",
              "      <td>Customer X</td>\n",
              "      <td>PT.HERO SUPERMARKET TBK.</td>\n",
              "      <td>2016-03-31</td>\n",
              "      <td>NaN</td>\n",
              "      <td>NaN</td>\n",
              "      <td>MJ.022259</td>\n",
              "      <td>Reguler</td>\n",
              "      <td>RP001</td>\n",
              "      <td>Reclass Piutang</td>\n",
              "      <td>...</td>\n",
              "      <td>Surabaya Tengah 2</td>\n",
              "      <td>2014-06-20</td>\n",
              "      <td>68031.00</td>\n",
              "      <td>0.0</td>\n",
              "      <td>68031.00</td>\n",
              "      <td>2022-10-18</td>\n",
              "      <td>2392</td>\n",
              "      <td>&gt;120</td>\n",
              "      <td>Surabaya</td>\n",
              "      <td>NaN</td>\n",
              "    </tr>\n",
              "    <tr>\n",
              "      <th>7637</th>\n",
              "      <td>C10-X9999</td>\n",
              "      <td>Customer X</td>\n",
              "      <td>CUSTOMER X 2018</td>\n",
              "      <td>2018-12-31</td>\n",
              "      <td>NaN</td>\n",
              "      <td>NaN</td>\n",
              "      <td>MJ.039396</td>\n",
              "      <td>Reguler</td>\n",
              "      <td>RP001</td>\n",
              "      <td>Reclass Piutang</td>\n",
              "      <td>...</td>\n",
              "      <td>Surabaya Tengah 1</td>\n",
              "      <td>2018-12-31</td>\n",
              "      <td>-70856.34</td>\n",
              "      <td>0.0</td>\n",
              "      <td>-70856.34</td>\n",
              "      <td>2022-10-18</td>\n",
              "      <td>1387</td>\n",
              "      <td>&gt;120</td>\n",
              "      <td>Surabaya</td>\n",
              "      <td>NaN</td>\n",
              "    </tr>\n",
              "  </tbody>\n",
              "</table>\n",
              "<p>7638 rows × 23 columns</p>\n",
              "</div>\n",
              "    <div class=\"colab-df-buttons\">\n",
              "\n",
              "  <div class=\"colab-df-container\">\n",
              "    <button class=\"colab-df-convert\" onclick=\"convertToInteractive('df-38cfb6f4-f3d8-4515-9fc6-af165c93c8e2')\"\n",
              "            title=\"Convert this dataframe to an interactive table.\"\n",
              "            style=\"display:none;\">\n",
              "\n",
              "  <svg xmlns=\"http://www.w3.org/2000/svg\" height=\"24px\" viewBox=\"0 -960 960 960\">\n",
              "    <path d=\"M120-120v-720h720v720H120Zm60-500h600v-160H180v160Zm220 220h160v-160H400v160Zm0 220h160v-160H400v160ZM180-400h160v-160H180v160Zm440 0h160v-160H620v160ZM180-180h160v-160H180v160Zm440 0h160v-160H620v160Z\"/>\n",
              "  </svg>\n",
              "    </button>\n",
              "\n",
              "  <style>\n",
              "    .colab-df-container {\n",
              "      display:flex;\n",
              "      gap: 12px;\n",
              "    }\n",
              "\n",
              "    .colab-df-convert {\n",
              "      background-color: #E8F0FE;\n",
              "      border: none;\n",
              "      border-radius: 50%;\n",
              "      cursor: pointer;\n",
              "      display: none;\n",
              "      fill: #1967D2;\n",
              "      height: 32px;\n",
              "      padding: 0 0 0 0;\n",
              "      width: 32px;\n",
              "    }\n",
              "\n",
              "    .colab-df-convert:hover {\n",
              "      background-color: #E2EBFA;\n",
              "      box-shadow: 0px 1px 2px rgba(60, 64, 67, 0.3), 0px 1px 3px 1px rgba(60, 64, 67, 0.15);\n",
              "      fill: #174EA6;\n",
              "    }\n",
              "\n",
              "    .colab-df-buttons div {\n",
              "      margin-bottom: 4px;\n",
              "    }\n",
              "\n",
              "    [theme=dark] .colab-df-convert {\n",
              "      background-color: #3B4455;\n",
              "      fill: #D2E3FC;\n",
              "    }\n",
              "\n",
              "    [theme=dark] .colab-df-convert:hover {\n",
              "      background-color: #434B5C;\n",
              "      box-shadow: 0px 1px 3px 1px rgba(0, 0, 0, 0.15);\n",
              "      filter: drop-shadow(0px 1px 2px rgba(0, 0, 0, 0.3));\n",
              "      fill: #FFFFFF;\n",
              "    }\n",
              "  </style>\n",
              "\n",
              "    <script>\n",
              "      const buttonEl =\n",
              "        document.querySelector('#df-38cfb6f4-f3d8-4515-9fc6-af165c93c8e2 button.colab-df-convert');\n",
              "      buttonEl.style.display =\n",
              "        google.colab.kernel.accessAllowed ? 'block' : 'none';\n",
              "\n",
              "      async function convertToInteractive(key) {\n",
              "        const element = document.querySelector('#df-38cfb6f4-f3d8-4515-9fc6-af165c93c8e2');\n",
              "        const dataTable =\n",
              "          await google.colab.kernel.invokeFunction('convertToInteractive',\n",
              "                                                    [key], {});\n",
              "        if (!dataTable) return;\n",
              "\n",
              "        const docLinkHtml = 'Like what you see? Visit the ' +\n",
              "          '<a target=\"_blank\" href=https://colab.research.google.com/notebooks/data_table.ipynb>data table notebook</a>'\n",
              "          + ' to learn more about interactive tables.';\n",
              "        element.innerHTML = '';\n",
              "        dataTable['output_type'] = 'display_data';\n",
              "        await google.colab.output.renderOutput(dataTable, element);\n",
              "        const docLink = document.createElement('div');\n",
              "        docLink.innerHTML = docLinkHtml;\n",
              "        element.appendChild(docLink);\n",
              "      }\n",
              "    </script>\n",
              "  </div>\n",
              "\n",
              "\n",
              "<div id=\"df-7cb412fb-899f-4620-b94c-776decabc4ff\">\n",
              "  <button class=\"colab-df-quickchart\" onclick=\"quickchart('df-7cb412fb-899f-4620-b94c-776decabc4ff')\"\n",
              "            title=\"Suggest charts\"\n",
              "            style=\"display:none;\">\n",
              "\n",
              "<svg xmlns=\"http://www.w3.org/2000/svg\" height=\"24px\"viewBox=\"0 0 24 24\"\n",
              "     width=\"24px\">\n",
              "    <g>\n",
              "        <path d=\"M19 3H5c-1.1 0-2 .9-2 2v14c0 1.1.9 2 2 2h14c1.1 0 2-.9 2-2V5c0-1.1-.9-2-2-2zM9 17H7v-7h2v7zm4 0h-2V7h2v10zm4 0h-2v-4h2v4z\"/>\n",
              "    </g>\n",
              "</svg>\n",
              "  </button>\n",
              "\n",
              "<style>\n",
              "  .colab-df-quickchart {\n",
              "      --bg-color: #E8F0FE;\n",
              "      --fill-color: #1967D2;\n",
              "      --hover-bg-color: #E2EBFA;\n",
              "      --hover-fill-color: #174EA6;\n",
              "      --disabled-fill-color: #AAA;\n",
              "      --disabled-bg-color: #DDD;\n",
              "  }\n",
              "\n",
              "  [theme=dark] .colab-df-quickchart {\n",
              "      --bg-color: #3B4455;\n",
              "      --fill-color: #D2E3FC;\n",
              "      --hover-bg-color: #434B5C;\n",
              "      --hover-fill-color: #FFFFFF;\n",
              "      --disabled-bg-color: #3B4455;\n",
              "      --disabled-fill-color: #666;\n",
              "  }\n",
              "\n",
              "  .colab-df-quickchart {\n",
              "    background-color: var(--bg-color);\n",
              "    border: none;\n",
              "    border-radius: 50%;\n",
              "    cursor: pointer;\n",
              "    display: none;\n",
              "    fill: var(--fill-color);\n",
              "    height: 32px;\n",
              "    padding: 0;\n",
              "    width: 32px;\n",
              "  }\n",
              "\n",
              "  .colab-df-quickchart:hover {\n",
              "    background-color: var(--hover-bg-color);\n",
              "    box-shadow: 0 1px 2px rgba(60, 64, 67, 0.3), 0 1px 3px 1px rgba(60, 64, 67, 0.15);\n",
              "    fill: var(--button-hover-fill-color);\n",
              "  }\n",
              "\n",
              "  .colab-df-quickchart-complete:disabled,\n",
              "  .colab-df-quickchart-complete:disabled:hover {\n",
              "    background-color: var(--disabled-bg-color);\n",
              "    fill: var(--disabled-fill-color);\n",
              "    box-shadow: none;\n",
              "  }\n",
              "\n",
              "  .colab-df-spinner {\n",
              "    border: 2px solid var(--fill-color);\n",
              "    border-color: transparent;\n",
              "    border-bottom-color: var(--fill-color);\n",
              "    animation:\n",
              "      spin 1s steps(1) infinite;\n",
              "  }\n",
              "\n",
              "  @keyframes spin {\n",
              "    0% {\n",
              "      border-color: transparent;\n",
              "      border-bottom-color: var(--fill-color);\n",
              "      border-left-color: var(--fill-color);\n",
              "    }\n",
              "    20% {\n",
              "      border-color: transparent;\n",
              "      border-left-color: var(--fill-color);\n",
              "      border-top-color: var(--fill-color);\n",
              "    }\n",
              "    30% {\n",
              "      border-color: transparent;\n",
              "      border-left-color: var(--fill-color);\n",
              "      border-top-color: var(--fill-color);\n",
              "      border-right-color: var(--fill-color);\n",
              "    }\n",
              "    40% {\n",
              "      border-color: transparent;\n",
              "      border-right-color: var(--fill-color);\n",
              "      border-top-color: var(--fill-color);\n",
              "    }\n",
              "    60% {\n",
              "      border-color: transparent;\n",
              "      border-right-color: var(--fill-color);\n",
              "    }\n",
              "    80% {\n",
              "      border-color: transparent;\n",
              "      border-right-color: var(--fill-color);\n",
              "      border-bottom-color: var(--fill-color);\n",
              "    }\n",
              "    90% {\n",
              "      border-color: transparent;\n",
              "      border-bottom-color: var(--fill-color);\n",
              "    }\n",
              "  }\n",
              "</style>\n",
              "\n",
              "  <script>\n",
              "    async function quickchart(key) {\n",
              "      const quickchartButtonEl =\n",
              "        document.querySelector('#' + key + ' button');\n",
              "      quickchartButtonEl.disabled = true;  // To prevent multiple clicks.\n",
              "      quickchartButtonEl.classList.add('colab-df-spinner');\n",
              "      try {\n",
              "        const charts = await google.colab.kernel.invokeFunction(\n",
              "            'suggestCharts', [key], {});\n",
              "      } catch (error) {\n",
              "        console.error('Error during call to suggestCharts:', error);\n",
              "      }\n",
              "      quickchartButtonEl.classList.remove('colab-df-spinner');\n",
              "      quickchartButtonEl.classList.add('colab-df-quickchart-complete');\n",
              "    }\n",
              "    (() => {\n",
              "      let quickchartButtonEl =\n",
              "        document.querySelector('#df-7cb412fb-899f-4620-b94c-776decabc4ff button');\n",
              "      quickchartButtonEl.style.display =\n",
              "        google.colab.kernel.accessAllowed ? 'block' : 'none';\n",
              "    })();\n",
              "  </script>\n",
              "</div>\n",
              "    </div>\n",
              "  </div>\n"
            ],
            "application/vnd.google.colaboratory.intrinsic+json": {
              "type": "dataframe",
              "variable_name": "df"
            }
          },
          "metadata": {},
          "execution_count": 7
        }
      ],
      "source": [
        "df"
      ]
    },
    {
      "cell_type": "markdown",
      "metadata": {
        "id": "rdhjlAsxCAG7"
      },
      "source": [
        "# Persiapan Data"
      ]
    },
    {
      "cell_type": "code",
      "execution_count": null,
      "metadata": {
        "colab": {
          "base_uri": "https://localhost:8080/"
        },
        "id": "0ZT7emfYCG5N",
        "outputId": "8a8a303a-0daa-4923-f3a9-25761e22f52d"
      },
      "outputs": [
        {
          "output_type": "stream",
          "name": "stdout",
          "text": [
            "     Customer_Code  Customer_X             Customer_Name Trans_Date  \\\n",
            "0        C10-00002     Reguler   2 OSCAR APT. (SURABAYA) 2022-10-06   \n",
            "1        C10-00002     Reguler   2 OSCAR APT. (SURABAYA) 2022-10-07   \n",
            "2        C10-00012     Reguler      AGRIPA APT(SURABAYA) 2022-10-07   \n",
            "3        C10-00016     Reguler           BONNET SWALAYAN 2022-09-12   \n",
            "4        C10-00029     Reguler     ALISA APT. (MOJOARUM) 2022-09-12   \n",
            "...            ...         ...                       ...        ...   \n",
            "7633     C10-X6243  Customer X  PT.HERO SUPERMARKET TBK. 2016-03-31   \n",
            "7634     C10-X6243  Customer X  PT.HERO SUPERMARKET TBK. 2016-03-31   \n",
            "7635     C10-X6243  Customer X  PT.HERO SUPERMARKET TBK. 2016-03-31   \n",
            "7636     C10-X6243  Customer X  PT.HERO SUPERMARKET TBK. 2016-03-31   \n",
            "7637     C10-X9999  Customer X           CUSTOMER X 2018 2018-12-31   \n",
            "\n",
            "       Nomor_Faktur_Pajak Invoice    Voucher Type_Jual Kode_Salesman  \\\n",
            "0     010.008-22.04800051  821043     777683   Reguler             4   \n",
            "1     010.008-22.04800198  821372     777830   Reguler             4   \n",
            "2     010.008-22.04800174  821237     777806   Reguler             4   \n",
            "3     010.008-22.04797213  818011     774846   Reguler            68   \n",
            "4     010.008-22.04797278  818252     774911   Reguler            45   \n",
            "...                   ...     ...        ...       ...           ...   \n",
            "7633                  NaN     NaN  MJ.022243   Reguler         RP001   \n",
            "7634                  NaN     NaN  MJ.022254   Reguler         RP001   \n",
            "7635                  NaN     NaN  MJ.022257   Reguler         RP001   \n",
            "7636                  NaN     NaN  MJ.022259   Reguler         RP001   \n",
            "7637                  NaN     NaN  MJ.039396   Reguler         RP001   \n",
            "\n",
            "           Nama_Salesman  ...     Nama_Territory   Due_Date  Invoice_Amount  \\\n",
            "0      Geger Harianto S.  ...  Surabaya Tengah 1 2022-10-27       823173.78   \n",
            "1      Geger Harianto S.  ...  Surabaya Tengah 1 2022-10-28       318792.00   \n",
            "2      Geger Harianto S.  ...  Surabaya Tengah 1 2022-10-14       594738.00   \n",
            "3     Amilatatus Solecha  ...   Surabaya Timur 2 2022-10-03      1070040.00   \n",
            "4            Kokok Teguh  ...   Surabaya Timur 1 2022-10-03       378674.28   \n",
            "...                  ...  ...                ...        ...             ...   \n",
            "7633     Reclass Piutang  ...  Surabaya Tengah 2 2014-02-07       114400.00   \n",
            "7634     Reclass Piutang  ...  Surabaya Tengah 2 2014-04-29        57200.00   \n",
            "7635     Reclass Piutang  ...  Surabaya Tengah 2 2014-05-20        76808.00   \n",
            "7636     Reclass Piutang  ...  Surabaya Tengah 2 2014-06-20        68031.00   \n",
            "7637     Reclass Piutang  ...  Surabaya Tengah 1 2018-12-31       -70856.34   \n",
            "\n",
            "     Settlement Outstanding_AR  Cutoff_Date  Umur Piutang ( Hari )  Aging  \\\n",
            "0           0.0      823173.78   2022-10-18                     12    ≤30   \n",
            "1           0.0      318792.00   2022-10-18                     11    ≤30   \n",
            "2           0.0      594738.00   2022-10-18                     11    ≤30   \n",
            "3     1060000.0       10040.00   2022-10-18                     36  31-60   \n",
            "4      378674.0           0.28   2022-10-18                     36  31-60   \n",
            "...         ...            ...          ...                    ...    ...   \n",
            "7633        0.0      114400.00   2022-10-18                   2392   >120   \n",
            "7634        0.0       57200.00   2022-10-18                   2392   >120   \n",
            "7635        0.0       76808.00   2022-10-18                   2392   >120   \n",
            "7636        0.0       68031.00   2022-10-18                   2392   >120   \n",
            "7637        0.0      -70856.34   2022-10-18                   1387   >120   \n",
            "\n",
            "        Cabang  Durasi_Keterlambatan  \n",
            "0     Surabaya                  -9.0  \n",
            "1     Surabaya                 -10.0  \n",
            "2     Surabaya                   4.0  \n",
            "3     Surabaya                  15.0  \n",
            "4     Surabaya                  15.0  \n",
            "...        ...                   ...  \n",
            "7633  Surabaya                   NaN  \n",
            "7634  Surabaya                   NaN  \n",
            "7635  Surabaya                   NaN  \n",
            "7636  Surabaya                   NaN  \n",
            "7637  Surabaya                   NaN  \n",
            "\n",
            "[7638 rows x 23 columns]\n"
          ]
        }
      ],
      "source": [
        "df.rename(columns={\n",
        "    'Customer Code':'Customer_Code',\n",
        "    'Customer X':'Customer_X',\n",
        "    'Customer Name':'Customer_Name',\n",
        "    'Trans Date':'Trans_Date',\n",
        "    'Nomor Faktur Pajak':'Nomor_Faktur_Pajak',\n",
        "    'Type Jual':'Type_Jual',\n",
        "    'Kode Salesman':'Kode_Salesman',\n",
        "    'Nama Salesman':'Nama_Salesman',\n",
        "    'CustGroup Name':'CustGroupName',\n",
        "    'Kode Territory':'Kode_Territory',\n",
        "    'Nama Territory':'Nama_Territory',\n",
        "    'Due Date':'Due_Date',\n",
        "    'Invoice Amount':'Invoice_Amount',\n",
        "    'Outstanding AR':'Outstanding_AR',\n",
        "    'Cut Off Date':'Cutoff_Date',\n",
        "    'Umur Piutang (Hari)':'Umur_Piutang(Hari)',\n",
        "    'Durasi Keterlambatan':'Durasi_Keterlambatan'\n",
        "},inplace=True)\n",
        "\n",
        "print(df)"
      ]
    },
    {
      "cell_type": "code",
      "execution_count": null,
      "metadata": {
        "colab": {
          "base_uri": "https://localhost:8080/"
        },
        "id": "6FivG9UjCLuQ",
        "outputId": "8f8df94b-0910-4519-fb6a-9ec6ce9085b9"
      },
      "outputs": [
        {
          "output_type": "execute_result",
          "data": {
            "text/plain": [
              "(7638, 23)"
            ]
          },
          "metadata": {},
          "execution_count": 9
        }
      ],
      "source": [
        "df.shape"
      ]
    },
    {
      "cell_type": "code",
      "execution_count": null,
      "metadata": {
        "colab": {
          "base_uri": "https://localhost:8080/"
        },
        "id": "8_ZLpF54CRq8",
        "outputId": "392def29-4efc-4f18-ffb6-93859dd80f43"
      },
      "outputs": [
        {
          "output_type": "stream",
          "name": "stdout",
          "text": [
            "<class 'pandas.core.frame.DataFrame'>\n",
            "RangeIndex: 7638 entries, 0 to 7637\n",
            "Data columns (total 23 columns):\n",
            " #   Column                 Non-Null Count  Dtype         \n",
            "---  ------                 --------------  -----         \n",
            " 0   Customer_Code          7638 non-null   object        \n",
            " 1   Customer_X             7638 non-null   object        \n",
            " 2   Customer_Name          7638 non-null   object        \n",
            " 3   Trans_Date             7638 non-null   datetime64[ns]\n",
            " 4   Nomor_Faktur_Pajak     6213 non-null   object        \n",
            " 5   Invoice                6842 non-null   object        \n",
            " 6   Voucher                7638 non-null   object        \n",
            " 7   Type_Jual              7638 non-null   object        \n",
            " 8   Kode_Salesman          7638 non-null   object        \n",
            " 9   Nama_Salesman          7592 non-null   object        \n",
            " 10  CustGroup              7638 non-null   object        \n",
            " 11  CustGroupName          7638 non-null   object        \n",
            " 12  Kode_Territory         7638 non-null   int64         \n",
            " 13  Nama_Territory         7638 non-null   object        \n",
            " 14  Due_Date               7600 non-null   datetime64[ns]\n",
            " 15  Invoice_Amount         7638 non-null   float64       \n",
            " 16  Settlement             7638 non-null   float64       \n",
            " 17  Outstanding_AR         7638 non-null   float64       \n",
            " 18  Cutoff_Date            7638 non-null   datetime64[ns]\n",
            " 19  Umur Piutang ( Hari )  7638 non-null   int64         \n",
            " 20  Aging                  7638 non-null   object        \n",
            " 21  Cabang                 7638 non-null   object        \n",
            " 22  Durasi_Keterlambatan   6984 non-null   float64       \n",
            "dtypes: datetime64[ns](3), float64(4), int64(2), object(14)\n",
            "memory usage: 1.3+ MB\n"
          ]
        }
      ],
      "source": [
        "df.info()"
      ]
    },
    {
      "cell_type": "code",
      "execution_count": null,
      "metadata": {
        "colab": {
          "base_uri": "https://localhost:8080/"
        },
        "id": "0twM6XQLCVQg",
        "outputId": "64e53bbe-8616-45da-e235-f5feeddb066b"
      },
      "outputs": [
        {
          "output_type": "execute_result",
          "data": {
            "text/plain": [
              "Customer_Code               0\n",
              "Customer_X                  0\n",
              "Customer_Name               0\n",
              "Trans_Date                  0\n",
              "Nomor_Faktur_Pajak       1425\n",
              "Invoice                   796\n",
              "Voucher                     0\n",
              "Type_Jual                   0\n",
              "Kode_Salesman               0\n",
              "Nama_Salesman              46\n",
              "CustGroup                   0\n",
              "CustGroupName               0\n",
              "Kode_Territory              0\n",
              "Nama_Territory              0\n",
              "Due_Date                   38\n",
              "Invoice_Amount              0\n",
              "Settlement                  0\n",
              "Outstanding_AR              0\n",
              "Cutoff_Date                 0\n",
              "Umur Piutang ( Hari )       0\n",
              "Aging                       0\n",
              "Cabang                      0\n",
              "Durasi_Keterlambatan      654\n",
              "dtype: int64"
            ]
          },
          "metadata": {},
          "execution_count": 11
        }
      ],
      "source": [
        "df.isnull().sum()"
      ]
    },
    {
      "cell_type": "markdown",
      "metadata": {
        "id": "NQnhkQb-CdtV"
      },
      "source": [
        "# Cleaning Data"
      ]
    },
    {
      "cell_type": "code",
      "execution_count": null,
      "metadata": {
        "id": "8P7iVGewCiGR"
      },
      "outputs": [],
      "source": [
        "df = df.dropna()"
      ]
    },
    {
      "cell_type": "code",
      "execution_count": null,
      "metadata": {
        "colab": {
          "base_uri": "https://localhost:8080/"
        },
        "id": "MGOf0n67CmGa",
        "outputId": "e6c0de3a-c186-438f-eceb-b6df228e6fc7"
      },
      "outputs": [
        {
          "output_type": "execute_result",
          "data": {
            "text/plain": [
              "Customer_Code            0\n",
              "Customer_X               0\n",
              "Customer_Name            0\n",
              "Trans_Date               0\n",
              "Nomor_Faktur_Pajak       0\n",
              "Invoice                  0\n",
              "Voucher                  0\n",
              "Type_Jual                0\n",
              "Kode_Salesman            0\n",
              "Nama_Salesman            0\n",
              "CustGroup                0\n",
              "CustGroupName            0\n",
              "Kode_Territory           0\n",
              "Nama_Territory           0\n",
              "Due_Date                 0\n",
              "Invoice_Amount           0\n",
              "Settlement               0\n",
              "Outstanding_AR           0\n",
              "Cutoff_Date              0\n",
              "Umur Piutang ( Hari )    0\n",
              "Aging                    0\n",
              "Cabang                   0\n",
              "Durasi_Keterlambatan     0\n",
              "dtype: int64"
            ]
          },
          "metadata": {},
          "execution_count": 13
        }
      ],
      "source": [
        "df.isnull().sum()"
      ]
    },
    {
      "cell_type": "code",
      "execution_count": null,
      "metadata": {
        "colab": {
          "base_uri": "https://localhost:8080/",
          "height": 394
        },
        "id": "cbWkEQn8CtuB",
        "outputId": "d7f6bbfa-7e33-4ffa-cc75-201b65989fad"
      },
      "outputs": [
        {
          "output_type": "execute_result",
          "data": {
            "text/plain": [
              "  Customer_Code Customer_X            Customer_Name Trans_Date  \\\n",
              "0     C10-00002    Reguler  2 OSCAR APT. (SURABAYA) 2022-10-06   \n",
              "1     C10-00002    Reguler  2 OSCAR APT. (SURABAYA) 2022-10-07   \n",
              "2     C10-00012    Reguler     AGRIPA APT(SURABAYA) 2022-10-07   \n",
              "3     C10-00016    Reguler          BONNET SWALAYAN 2022-09-12   \n",
              "4     C10-00029    Reguler    ALISA APT. (MOJOARUM) 2022-09-12   \n",
              "\n",
              "    Nomor_Faktur_Pajak Invoice Voucher Type_Jual Kode_Salesman  \\\n",
              "0  010.008-22.04800051  821043  777683   Reguler             4   \n",
              "1  010.008-22.04800198  821372  777830   Reguler             4   \n",
              "2  010.008-22.04800174  821237  777806   Reguler             4   \n",
              "3  010.008-22.04797213  818011  774846   Reguler            68   \n",
              "4  010.008-22.04797278  818252  774911   Reguler            45   \n",
              "\n",
              "        Nama_Salesman  ...     Nama_Territory   Due_Date  Invoice_Amount  \\\n",
              "0   Geger Harianto S.  ...  Surabaya Tengah 1 2022-10-27       823173.78   \n",
              "1   Geger Harianto S.  ...  Surabaya Tengah 1 2022-10-28       318792.00   \n",
              "2   Geger Harianto S.  ...  Surabaya Tengah 1 2022-10-14       594738.00   \n",
              "3  Amilatatus Solecha  ...   Surabaya Timur 2 2022-10-03      1070040.00   \n",
              "4         Kokok Teguh  ...   Surabaya Timur 1 2022-10-03       378674.28   \n",
              "\n",
              "  Settlement Outstanding_AR  Cutoff_Date  Umur Piutang ( Hari )  Aging  \\\n",
              "0        0.0      823173.78   2022-10-18                     12    ≤30   \n",
              "1        0.0      318792.00   2022-10-18                     11    ≤30   \n",
              "2        0.0      594738.00   2022-10-18                     11    ≤30   \n",
              "3  1060000.0       10040.00   2022-10-18                     36  31-60   \n",
              "4   378674.0           0.28   2022-10-18                     36  31-60   \n",
              "\n",
              "     Cabang  Durasi_Keterlambatan  \n",
              "0  Surabaya                  -9.0  \n",
              "1  Surabaya                 -10.0  \n",
              "2  Surabaya                   4.0  \n",
              "3  Surabaya                  15.0  \n",
              "4  Surabaya                  15.0  \n",
              "\n",
              "[5 rows x 23 columns]"
            ],
            "text/html": [
              "\n",
              "  <div id=\"df-f3a08ee7-848f-4646-8482-6bc184291dc8\" class=\"colab-df-container\">\n",
              "    <div>\n",
              "<style scoped>\n",
              "    .dataframe tbody tr th:only-of-type {\n",
              "        vertical-align: middle;\n",
              "    }\n",
              "\n",
              "    .dataframe tbody tr th {\n",
              "        vertical-align: top;\n",
              "    }\n",
              "\n",
              "    .dataframe thead th {\n",
              "        text-align: right;\n",
              "    }\n",
              "</style>\n",
              "<table border=\"1\" class=\"dataframe\">\n",
              "  <thead>\n",
              "    <tr style=\"text-align: right;\">\n",
              "      <th></th>\n",
              "      <th>Customer_Code</th>\n",
              "      <th>Customer_X</th>\n",
              "      <th>Customer_Name</th>\n",
              "      <th>Trans_Date</th>\n",
              "      <th>Nomor_Faktur_Pajak</th>\n",
              "      <th>Invoice</th>\n",
              "      <th>Voucher</th>\n",
              "      <th>Type_Jual</th>\n",
              "      <th>Kode_Salesman</th>\n",
              "      <th>Nama_Salesman</th>\n",
              "      <th>...</th>\n",
              "      <th>Nama_Territory</th>\n",
              "      <th>Due_Date</th>\n",
              "      <th>Invoice_Amount</th>\n",
              "      <th>Settlement</th>\n",
              "      <th>Outstanding_AR</th>\n",
              "      <th>Cutoff_Date</th>\n",
              "      <th>Umur Piutang ( Hari )</th>\n",
              "      <th>Aging</th>\n",
              "      <th>Cabang</th>\n",
              "      <th>Durasi_Keterlambatan</th>\n",
              "    </tr>\n",
              "  </thead>\n",
              "  <tbody>\n",
              "    <tr>\n",
              "      <th>0</th>\n",
              "      <td>C10-00002</td>\n",
              "      <td>Reguler</td>\n",
              "      <td>2 OSCAR APT. (SURABAYA)</td>\n",
              "      <td>2022-10-06</td>\n",
              "      <td>010.008-22.04800051</td>\n",
              "      <td>821043</td>\n",
              "      <td>777683</td>\n",
              "      <td>Reguler</td>\n",
              "      <td>4</td>\n",
              "      <td>Geger Harianto S.</td>\n",
              "      <td>...</td>\n",
              "      <td>Surabaya Tengah 1</td>\n",
              "      <td>2022-10-27</td>\n",
              "      <td>823173.78</td>\n",
              "      <td>0.0</td>\n",
              "      <td>823173.78</td>\n",
              "      <td>2022-10-18</td>\n",
              "      <td>12</td>\n",
              "      <td>≤30</td>\n",
              "      <td>Surabaya</td>\n",
              "      <td>-9.0</td>\n",
              "    </tr>\n",
              "    <tr>\n",
              "      <th>1</th>\n",
              "      <td>C10-00002</td>\n",
              "      <td>Reguler</td>\n",
              "      <td>2 OSCAR APT. (SURABAYA)</td>\n",
              "      <td>2022-10-07</td>\n",
              "      <td>010.008-22.04800198</td>\n",
              "      <td>821372</td>\n",
              "      <td>777830</td>\n",
              "      <td>Reguler</td>\n",
              "      <td>4</td>\n",
              "      <td>Geger Harianto S.</td>\n",
              "      <td>...</td>\n",
              "      <td>Surabaya Tengah 1</td>\n",
              "      <td>2022-10-28</td>\n",
              "      <td>318792.00</td>\n",
              "      <td>0.0</td>\n",
              "      <td>318792.00</td>\n",
              "      <td>2022-10-18</td>\n",
              "      <td>11</td>\n",
              "      <td>≤30</td>\n",
              "      <td>Surabaya</td>\n",
              "      <td>-10.0</td>\n",
              "    </tr>\n",
              "    <tr>\n",
              "      <th>2</th>\n",
              "      <td>C10-00012</td>\n",
              "      <td>Reguler</td>\n",
              "      <td>AGRIPA APT(SURABAYA)</td>\n",
              "      <td>2022-10-07</td>\n",
              "      <td>010.008-22.04800174</td>\n",
              "      <td>821237</td>\n",
              "      <td>777806</td>\n",
              "      <td>Reguler</td>\n",
              "      <td>4</td>\n",
              "      <td>Geger Harianto S.</td>\n",
              "      <td>...</td>\n",
              "      <td>Surabaya Tengah 1</td>\n",
              "      <td>2022-10-14</td>\n",
              "      <td>594738.00</td>\n",
              "      <td>0.0</td>\n",
              "      <td>594738.00</td>\n",
              "      <td>2022-10-18</td>\n",
              "      <td>11</td>\n",
              "      <td>≤30</td>\n",
              "      <td>Surabaya</td>\n",
              "      <td>4.0</td>\n",
              "    </tr>\n",
              "    <tr>\n",
              "      <th>3</th>\n",
              "      <td>C10-00016</td>\n",
              "      <td>Reguler</td>\n",
              "      <td>BONNET SWALAYAN</td>\n",
              "      <td>2022-09-12</td>\n",
              "      <td>010.008-22.04797213</td>\n",
              "      <td>818011</td>\n",
              "      <td>774846</td>\n",
              "      <td>Reguler</td>\n",
              "      <td>68</td>\n",
              "      <td>Amilatatus Solecha</td>\n",
              "      <td>...</td>\n",
              "      <td>Surabaya Timur 2</td>\n",
              "      <td>2022-10-03</td>\n",
              "      <td>1070040.00</td>\n",
              "      <td>1060000.0</td>\n",
              "      <td>10040.00</td>\n",
              "      <td>2022-10-18</td>\n",
              "      <td>36</td>\n",
              "      <td>31-60</td>\n",
              "      <td>Surabaya</td>\n",
              "      <td>15.0</td>\n",
              "    </tr>\n",
              "    <tr>\n",
              "      <th>4</th>\n",
              "      <td>C10-00029</td>\n",
              "      <td>Reguler</td>\n",
              "      <td>ALISA APT. (MOJOARUM)</td>\n",
              "      <td>2022-09-12</td>\n",
              "      <td>010.008-22.04797278</td>\n",
              "      <td>818252</td>\n",
              "      <td>774911</td>\n",
              "      <td>Reguler</td>\n",
              "      <td>45</td>\n",
              "      <td>Kokok Teguh</td>\n",
              "      <td>...</td>\n",
              "      <td>Surabaya Timur 1</td>\n",
              "      <td>2022-10-03</td>\n",
              "      <td>378674.28</td>\n",
              "      <td>378674.0</td>\n",
              "      <td>0.28</td>\n",
              "      <td>2022-10-18</td>\n",
              "      <td>36</td>\n",
              "      <td>31-60</td>\n",
              "      <td>Surabaya</td>\n",
              "      <td>15.0</td>\n",
              "    </tr>\n",
              "  </tbody>\n",
              "</table>\n",
              "<p>5 rows × 23 columns</p>\n",
              "</div>\n",
              "    <div class=\"colab-df-buttons\">\n",
              "\n",
              "  <div class=\"colab-df-container\">\n",
              "    <button class=\"colab-df-convert\" onclick=\"convertToInteractive('df-f3a08ee7-848f-4646-8482-6bc184291dc8')\"\n",
              "            title=\"Convert this dataframe to an interactive table.\"\n",
              "            style=\"display:none;\">\n",
              "\n",
              "  <svg xmlns=\"http://www.w3.org/2000/svg\" height=\"24px\" viewBox=\"0 -960 960 960\">\n",
              "    <path d=\"M120-120v-720h720v720H120Zm60-500h600v-160H180v160Zm220 220h160v-160H400v160Zm0 220h160v-160H400v160ZM180-400h160v-160H180v160Zm440 0h160v-160H620v160ZM180-180h160v-160H180v160Zm440 0h160v-160H620v160Z\"/>\n",
              "  </svg>\n",
              "    </button>\n",
              "\n",
              "  <style>\n",
              "    .colab-df-container {\n",
              "      display:flex;\n",
              "      gap: 12px;\n",
              "    }\n",
              "\n",
              "    .colab-df-convert {\n",
              "      background-color: #E8F0FE;\n",
              "      border: none;\n",
              "      border-radius: 50%;\n",
              "      cursor: pointer;\n",
              "      display: none;\n",
              "      fill: #1967D2;\n",
              "      height: 32px;\n",
              "      padding: 0 0 0 0;\n",
              "      width: 32px;\n",
              "    }\n",
              "\n",
              "    .colab-df-convert:hover {\n",
              "      background-color: #E2EBFA;\n",
              "      box-shadow: 0px 1px 2px rgba(60, 64, 67, 0.3), 0px 1px 3px 1px rgba(60, 64, 67, 0.15);\n",
              "      fill: #174EA6;\n",
              "    }\n",
              "\n",
              "    .colab-df-buttons div {\n",
              "      margin-bottom: 4px;\n",
              "    }\n",
              "\n",
              "    [theme=dark] .colab-df-convert {\n",
              "      background-color: #3B4455;\n",
              "      fill: #D2E3FC;\n",
              "    }\n",
              "\n",
              "    [theme=dark] .colab-df-convert:hover {\n",
              "      background-color: #434B5C;\n",
              "      box-shadow: 0px 1px 3px 1px rgba(0, 0, 0, 0.15);\n",
              "      filter: drop-shadow(0px 1px 2px rgba(0, 0, 0, 0.3));\n",
              "      fill: #FFFFFF;\n",
              "    }\n",
              "  </style>\n",
              "\n",
              "    <script>\n",
              "      const buttonEl =\n",
              "        document.querySelector('#df-f3a08ee7-848f-4646-8482-6bc184291dc8 button.colab-df-convert');\n",
              "      buttonEl.style.display =\n",
              "        google.colab.kernel.accessAllowed ? 'block' : 'none';\n",
              "\n",
              "      async function convertToInteractive(key) {\n",
              "        const element = document.querySelector('#df-f3a08ee7-848f-4646-8482-6bc184291dc8');\n",
              "        const dataTable =\n",
              "          await google.colab.kernel.invokeFunction('convertToInteractive',\n",
              "                                                    [key], {});\n",
              "        if (!dataTable) return;\n",
              "\n",
              "        const docLinkHtml = 'Like what you see? Visit the ' +\n",
              "          '<a target=\"_blank\" href=https://colab.research.google.com/notebooks/data_table.ipynb>data table notebook</a>'\n",
              "          + ' to learn more about interactive tables.';\n",
              "        element.innerHTML = '';\n",
              "        dataTable['output_type'] = 'display_data';\n",
              "        await google.colab.output.renderOutput(dataTable, element);\n",
              "        const docLink = document.createElement('div');\n",
              "        docLink.innerHTML = docLinkHtml;\n",
              "        element.appendChild(docLink);\n",
              "      }\n",
              "    </script>\n",
              "  </div>\n",
              "\n",
              "\n",
              "<div id=\"df-b458e895-c8b1-419c-a1ca-f9e16e4a6285\">\n",
              "  <button class=\"colab-df-quickchart\" onclick=\"quickchart('df-b458e895-c8b1-419c-a1ca-f9e16e4a6285')\"\n",
              "            title=\"Suggest charts\"\n",
              "            style=\"display:none;\">\n",
              "\n",
              "<svg xmlns=\"http://www.w3.org/2000/svg\" height=\"24px\"viewBox=\"0 0 24 24\"\n",
              "     width=\"24px\">\n",
              "    <g>\n",
              "        <path d=\"M19 3H5c-1.1 0-2 .9-2 2v14c0 1.1.9 2 2 2h14c1.1 0 2-.9 2-2V5c0-1.1-.9-2-2-2zM9 17H7v-7h2v7zm4 0h-2V7h2v10zm4 0h-2v-4h2v4z\"/>\n",
              "    </g>\n",
              "</svg>\n",
              "  </button>\n",
              "\n",
              "<style>\n",
              "  .colab-df-quickchart {\n",
              "      --bg-color: #E8F0FE;\n",
              "      --fill-color: #1967D2;\n",
              "      --hover-bg-color: #E2EBFA;\n",
              "      --hover-fill-color: #174EA6;\n",
              "      --disabled-fill-color: #AAA;\n",
              "      --disabled-bg-color: #DDD;\n",
              "  }\n",
              "\n",
              "  [theme=dark] .colab-df-quickchart {\n",
              "      --bg-color: #3B4455;\n",
              "      --fill-color: #D2E3FC;\n",
              "      --hover-bg-color: #434B5C;\n",
              "      --hover-fill-color: #FFFFFF;\n",
              "      --disabled-bg-color: #3B4455;\n",
              "      --disabled-fill-color: #666;\n",
              "  }\n",
              "\n",
              "  .colab-df-quickchart {\n",
              "    background-color: var(--bg-color);\n",
              "    border: none;\n",
              "    border-radius: 50%;\n",
              "    cursor: pointer;\n",
              "    display: none;\n",
              "    fill: var(--fill-color);\n",
              "    height: 32px;\n",
              "    padding: 0;\n",
              "    width: 32px;\n",
              "  }\n",
              "\n",
              "  .colab-df-quickchart:hover {\n",
              "    background-color: var(--hover-bg-color);\n",
              "    box-shadow: 0 1px 2px rgba(60, 64, 67, 0.3), 0 1px 3px 1px rgba(60, 64, 67, 0.15);\n",
              "    fill: var(--button-hover-fill-color);\n",
              "  }\n",
              "\n",
              "  .colab-df-quickchart-complete:disabled,\n",
              "  .colab-df-quickchart-complete:disabled:hover {\n",
              "    background-color: var(--disabled-bg-color);\n",
              "    fill: var(--disabled-fill-color);\n",
              "    box-shadow: none;\n",
              "  }\n",
              "\n",
              "  .colab-df-spinner {\n",
              "    border: 2px solid var(--fill-color);\n",
              "    border-color: transparent;\n",
              "    border-bottom-color: var(--fill-color);\n",
              "    animation:\n",
              "      spin 1s steps(1) infinite;\n",
              "  }\n",
              "\n",
              "  @keyframes spin {\n",
              "    0% {\n",
              "      border-color: transparent;\n",
              "      border-bottom-color: var(--fill-color);\n",
              "      border-left-color: var(--fill-color);\n",
              "    }\n",
              "    20% {\n",
              "      border-color: transparent;\n",
              "      border-left-color: var(--fill-color);\n",
              "      border-top-color: var(--fill-color);\n",
              "    }\n",
              "    30% {\n",
              "      border-color: transparent;\n",
              "      border-left-color: var(--fill-color);\n",
              "      border-top-color: var(--fill-color);\n",
              "      border-right-color: var(--fill-color);\n",
              "    }\n",
              "    40% {\n",
              "      border-color: transparent;\n",
              "      border-right-color: var(--fill-color);\n",
              "      border-top-color: var(--fill-color);\n",
              "    }\n",
              "    60% {\n",
              "      border-color: transparent;\n",
              "      border-right-color: var(--fill-color);\n",
              "    }\n",
              "    80% {\n",
              "      border-color: transparent;\n",
              "      border-right-color: var(--fill-color);\n",
              "      border-bottom-color: var(--fill-color);\n",
              "    }\n",
              "    90% {\n",
              "      border-color: transparent;\n",
              "      border-bottom-color: var(--fill-color);\n",
              "    }\n",
              "  }\n",
              "</style>\n",
              "\n",
              "  <script>\n",
              "    async function quickchart(key) {\n",
              "      const quickchartButtonEl =\n",
              "        document.querySelector('#' + key + ' button');\n",
              "      quickchartButtonEl.disabled = true;  // To prevent multiple clicks.\n",
              "      quickchartButtonEl.classList.add('colab-df-spinner');\n",
              "      try {\n",
              "        const charts = await google.colab.kernel.invokeFunction(\n",
              "            'suggestCharts', [key], {});\n",
              "      } catch (error) {\n",
              "        console.error('Error during call to suggestCharts:', error);\n",
              "      }\n",
              "      quickchartButtonEl.classList.remove('colab-df-spinner');\n",
              "      quickchartButtonEl.classList.add('colab-df-quickchart-complete');\n",
              "    }\n",
              "    (() => {\n",
              "      let quickchartButtonEl =\n",
              "        document.querySelector('#df-b458e895-c8b1-419c-a1ca-f9e16e4a6285 button');\n",
              "      quickchartButtonEl.style.display =\n",
              "        google.colab.kernel.accessAllowed ? 'block' : 'none';\n",
              "    })();\n",
              "  </script>\n",
              "</div>\n",
              "    </div>\n",
              "  </div>\n"
            ],
            "application/vnd.google.colaboratory.intrinsic+json": {
              "type": "dataframe",
              "variable_name": "df"
            }
          },
          "metadata": {},
          "execution_count": 14
        }
      ],
      "source": [
        "df.head()"
      ]
    },
    {
      "cell_type": "code",
      "execution_count": null,
      "metadata": {
        "colab": {
          "base_uri": "https://localhost:8080/"
        },
        "id": "7IvLFgC1CvTk",
        "outputId": "c67a554c-2ef2-4502-b271-afa5c4c0ad36"
      },
      "outputs": [
        {
          "data": {
            "text/plain": [
              "(6213, 23)"
            ]
          },
          "execution_count": 15,
          "metadata": {},
          "output_type": "execute_result"
        }
      ],
      "source": [
        "df.shape"
      ]
    },
    {
      "cell_type": "markdown",
      "metadata": {
        "id": "dREekxbCC0Xu"
      },
      "source": [
        "# Transform Data"
      ]
    },
    {
      "cell_type": "code",
      "execution_count": null,
      "metadata": {
        "colab": {
          "base_uri": "https://localhost:8080/"
        },
        "id": "9x5h-sp7C5i1",
        "outputId": "cd7c449a-9cba-4c22-8272-e76ea9959e46"
      },
      "outputs": [
        {
          "name": "stderr",
          "output_type": "stream",
          "text": [
            "<ipython-input-16-fd522ad1ecc3>:2: SettingWithCopyWarning:\n",
            "\n",
            "\n",
            "A value is trying to be set on a copy of a slice from a DataFrame.\n",
            "Try using .loc[row_indexer,col_indexer] = value instead\n",
            "\n",
            "See the caveats in the documentation: https://pandas.pydata.org/pandas-docs/stable/user_guide/indexing.html#returning-a-view-versus-a-copy\n",
            "\n",
            "<ipython-input-16-fd522ad1ecc3>:3: SettingWithCopyWarning:\n",
            "\n",
            "\n",
            "A value is trying to be set on a copy of a slice from a DataFrame.\n",
            "Try using .loc[row_indexer,col_indexer] = value instead\n",
            "\n",
            "See the caveats in the documentation: https://pandas.pydata.org/pandas-docs/stable/user_guide/indexing.html#returning-a-view-versus-a-copy\n",
            "\n",
            "<ipython-input-16-fd522ad1ecc3>:4: SettingWithCopyWarning:\n",
            "\n",
            "\n",
            "A value is trying to be set on a copy of a slice from a DataFrame.\n",
            "Try using .loc[row_indexer,col_indexer] = value instead\n",
            "\n",
            "See the caveats in the documentation: https://pandas.pydata.org/pandas-docs/stable/user_guide/indexing.html#returning-a-view-versus-a-copy\n",
            "\n",
            "<ipython-input-16-fd522ad1ecc3>:5: SettingWithCopyWarning:\n",
            "\n",
            "\n",
            "A value is trying to be set on a copy of a slice from a DataFrame.\n",
            "Try using .loc[row_indexer,col_indexer] = value instead\n",
            "\n",
            "See the caveats in the documentation: https://pandas.pydata.org/pandas-docs/stable/user_guide/indexing.html#returning-a-view-versus-a-copy\n",
            "\n",
            "<ipython-input-16-fd522ad1ecc3>:6: SettingWithCopyWarning:\n",
            "\n",
            "\n",
            "A value is trying to be set on a copy of a slice from a DataFrame.\n",
            "Try using .loc[row_indexer,col_indexer] = value instead\n",
            "\n",
            "See the caveats in the documentation: https://pandas.pydata.org/pandas-docs/stable/user_guide/indexing.html#returning-a-view-versus-a-copy\n",
            "\n",
            "<ipython-input-16-fd522ad1ecc3>:7: SettingWithCopyWarning:\n",
            "\n",
            "\n",
            "A value is trying to be set on a copy of a slice from a DataFrame.\n",
            "Try using .loc[row_indexer,col_indexer] = value instead\n",
            "\n",
            "See the caveats in the documentation: https://pandas.pydata.org/pandas-docs/stable/user_guide/indexing.html#returning-a-view-versus-a-copy\n",
            "\n"
          ]
        }
      ],
      "source": [
        "# Konversi kolom tanggal menjadi tipe data Date\n",
        "df['Trans_Date'] = pd.to_datetime(df['Trans_Date'])\n",
        "df['Trans_DateOnly'] = df['Trans_Date'].dt.date\n",
        "df['Due_Date'] = pd.to_datetime(df['Due_Date'])\n",
        "df['Due_DateOnly'] = df['Due_Date'].dt.date\n",
        "df['Cutoff_Date'] = pd.to_datetime(df['Cutoff_Date'])\n",
        "df['Cutoff_DateOnly']= df['Cutoff_Date'].dt.date"
      ]
    },
    {
      "cell_type": "code",
      "execution_count": null,
      "metadata": {
        "colab": {
          "base_uri": "https://localhost:8080/"
        },
        "id": "FKnAvLT6C-Z5",
        "outputId": "ac044587-2527-4227-f2c6-056f0bafa6e6"
      },
      "outputs": [
        {
          "name": "stdout",
          "output_type": "stream",
          "text": [
            "0       2022-10-27\n",
            "1       2022-10-28\n",
            "2       2022-10-14\n",
            "3       2022-10-03\n",
            "4       2022-10-03\n",
            "           ...    \n",
            "6971    2022-10-31\n",
            "6972    2022-09-26\n",
            "6974    2022-10-07\n",
            "6975    2022-10-07\n",
            "6976    2022-10-17\n",
            "Name: Due_DateOnly, Length: 6213, dtype: object\n"
          ]
        }
      ],
      "source": [
        "print(df['Due_DateOnly'])"
      ]
    },
    {
      "cell_type": "code",
      "execution_count": null,
      "metadata": {
        "colab": {
          "base_uri": "https://localhost:8080/"
        },
        "id": "ADPvGHxIDCJT",
        "outputId": "fac189ac-76c1-4b32-9f1c-60d6cf780a5b"
      },
      "outputs": [
        {
          "name": "stderr",
          "output_type": "stream",
          "text": [
            "<ipython-input-18-6d2a0275a595>:2: SettingWithCopyWarning:\n",
            "\n",
            "\n",
            "A value is trying to be set on a copy of a slice from a DataFrame.\n",
            "Try using .loc[row_indexer,col_indexer] = value instead\n",
            "\n",
            "See the caveats in the documentation: https://pandas.pydata.org/pandas-docs/stable/user_guide/indexing.html#returning-a-view-versus-a-copy\n",
            "\n",
            "<ipython-input-18-6d2a0275a595>:3: SettingWithCopyWarning:\n",
            "\n",
            "\n",
            "A value is trying to be set on a copy of a slice from a DataFrame.\n",
            "Try using .loc[row_indexer,col_indexer] = value instead\n",
            "\n",
            "See the caveats in the documentation: https://pandas.pydata.org/pandas-docs/stable/user_guide/indexing.html#returning-a-view-versus-a-copy\n",
            "\n",
            "<ipython-input-18-6d2a0275a595>:4: SettingWithCopyWarning:\n",
            "\n",
            "\n",
            "A value is trying to be set on a copy of a slice from a DataFrame.\n",
            "Try using .loc[row_indexer,col_indexer] = value instead\n",
            "\n",
            "See the caveats in the documentation: https://pandas.pydata.org/pandas-docs/stable/user_guide/indexing.html#returning-a-view-versus-a-copy\n",
            "\n",
            "<ipython-input-18-6d2a0275a595>:5: SettingWithCopyWarning:\n",
            "\n",
            "\n",
            "A value is trying to be set on a copy of a slice from a DataFrame.\n",
            "Try using .loc[row_indexer,col_indexer] = value instead\n",
            "\n",
            "See the caveats in the documentation: https://pandas.pydata.org/pandas-docs/stable/user_guide/indexing.html#returning-a-view-versus-a-copy\n",
            "\n"
          ]
        }
      ],
      "source": [
        "# Setelah itu, Anda dapat mengakses komponen tanggal\n",
        "df['Trans_DateMonth'] = df['Trans_Date'].dt.month / 12\n",
        "df['Trans_DateDay'] = df['Trans_Date'].dt.day / 31\n",
        "df['Due_DateMonth'] = df['Due_Date'].dt.month / 12\n",
        "df['Due_DateDay'] = df['Due_Date'].dt.day / 31"
      ]
    },
    {
      "cell_type": "code",
      "execution_count": null,
      "metadata": {
        "colab": {
          "base_uri": "https://localhost:8080/",
          "height": 529
        },
        "id": "Sv6ZIgjEDG6a",
        "outputId": "7bb1d0d5-1b25-4dc6-ba22-cb8f771f8a82"
      },
      "outputs": [
        {
          "data": {
            "text/html": [
              "<style type=\"text/css\">\n",
              "#T_68346_row0_col0, #T_68346_row0_col1, #T_68346_row0_col2, #T_68346_row0_col3, #T_68346_row0_col4, #T_68346_row0_col5, #T_68346_row0_col6, #T_68346_row0_col7, #T_68346_row1_col0, #T_68346_row1_col1, #T_68346_row1_col2, #T_68346_row1_col3, #T_68346_row1_col4, #T_68346_row1_col5, #T_68346_row1_col6, #T_68346_row1_col7, #T_68346_row2_col0, #T_68346_row2_col1, #T_68346_row2_col2, #T_68346_row2_col3, #T_68346_row2_col4, #T_68346_row2_col5, #T_68346_row2_col6, #T_68346_row2_col7, #T_68346_row3_col0, #T_68346_row3_col1, #T_68346_row3_col2, #T_68346_row3_col3, #T_68346_row3_col4, #T_68346_row3_col5, #T_68346_row3_col6, #T_68346_row3_col7, #T_68346_row4_col0, #T_68346_row4_col1, #T_68346_row4_col2, #T_68346_row4_col3, #T_68346_row4_col4, #T_68346_row4_col5, #T_68346_row4_col6, #T_68346_row4_col7, #T_68346_row5_col0, #T_68346_row5_col1, #T_68346_row5_col2, #T_68346_row5_col3, #T_68346_row5_col4, #T_68346_row5_col5, #T_68346_row5_col6, #T_68346_row5_col7, #T_68346_row6_col0, #T_68346_row6_col1, #T_68346_row6_col2, #T_68346_row6_col3, #T_68346_row6_col4, #T_68346_row6_col5, #T_68346_row6_col6, #T_68346_row6_col7, #T_68346_row7_col0, #T_68346_row7_col1, #T_68346_row7_col2, #T_68346_row7_col3, #T_68346_row7_col4, #T_68346_row7_col5, #T_68346_row7_col6, #T_68346_row7_col7, #T_68346_row8_col0, #T_68346_row8_col1, #T_68346_row8_col2, #T_68346_row8_col3, #T_68346_row8_col4, #T_68346_row8_col5, #T_68346_row8_col6, #T_68346_row8_col7, #T_68346_row9_col0, #T_68346_row9_col1, #T_68346_row9_col2, #T_68346_row9_col3, #T_68346_row9_col4, #T_68346_row9_col5, #T_68346_row9_col6, #T_68346_row9_col7, #T_68346_row10_col0, #T_68346_row10_col1, #T_68346_row10_col2, #T_68346_row10_col3, #T_68346_row10_col4, #T_68346_row10_col5, #T_68346_row10_col6, #T_68346_row10_col7, #T_68346_row11_col0, #T_68346_row11_col1, #T_68346_row11_col2, #T_68346_row11_col3, #T_68346_row11_col4, #T_68346_row11_col5, #T_68346_row11_col6, #T_68346_row11_col7, #T_68346_row12_col0, #T_68346_row12_col1, #T_68346_row12_col2, #T_68346_row12_col3, #T_68346_row12_col4, #T_68346_row12_col5, #T_68346_row12_col6, #T_68346_row12_col7 {\n",
              "  background-color: grey;\n",
              "  color: white;\n",
              "  border-color: white;\n",
              "}\n",
              "</style>\n",
              "<table id=\"T_68346\" class=\"dataframe\">\n",
              "  <thead>\n",
              "    <tr>\n",
              "      <th class=\"blank level0\" >&nbsp;</th>\n",
              "      <th id=\"T_68346_level0_col0\" class=\"col_heading level0 col0\" >count</th>\n",
              "      <th id=\"T_68346_level0_col1\" class=\"col_heading level0 col1\" >mean</th>\n",
              "      <th id=\"T_68346_level0_col2\" class=\"col_heading level0 col2\" >min</th>\n",
              "      <th id=\"T_68346_level0_col3\" class=\"col_heading level0 col3\" >25%</th>\n",
              "      <th id=\"T_68346_level0_col4\" class=\"col_heading level0 col4\" >50%</th>\n",
              "      <th id=\"T_68346_level0_col5\" class=\"col_heading level0 col5\" >75%</th>\n",
              "      <th id=\"T_68346_level0_col6\" class=\"col_heading level0 col6\" >max</th>\n",
              "      <th id=\"T_68346_level0_col7\" class=\"col_heading level0 col7\" >std</th>\n",
              "    </tr>\n",
              "  </thead>\n",
              "  <tbody>\n",
              "    <tr>\n",
              "      <th id=\"T_68346_level0_row0\" class=\"row_heading level0 row0\" >Trans_Date</th>\n",
              "      <td id=\"T_68346_row0_col0\" class=\"data row0 col0\" >6213</td>\n",
              "      <td id=\"T_68346_row0_col1\" class=\"data row0 col1\" >2021-11-01 16:41:01.419604224</td>\n",
              "      <td id=\"T_68346_row0_col2\" class=\"data row0 col2\" >2015-01-10 00:00:00</td>\n",
              "      <td id=\"T_68346_row0_col3\" class=\"data row0 col3\" >2022-08-18 00:00:00</td>\n",
              "      <td id=\"T_68346_row0_col4\" class=\"data row0 col4\" >2022-09-19 00:00:00</td>\n",
              "      <td id=\"T_68346_row0_col5\" class=\"data row0 col5\" >2022-09-30 00:00:00</td>\n",
              "      <td id=\"T_68346_row0_col6\" class=\"data row0 col6\" >2022-10-17 00:00:00</td>\n",
              "      <td id=\"T_68346_row0_col7\" class=\"data row0 col7\" >nan</td>\n",
              "    </tr>\n",
              "    <tr>\n",
              "      <th id=\"T_68346_level0_row1\" class=\"row_heading level0 row1\" >Kode_Territory</th>\n",
              "      <td id=\"T_68346_row1_col0\" class=\"data row1 col0\" >6213.000000</td>\n",
              "      <td id=\"T_68346_row1_col1\" class=\"data row1 col1\" >100617.226944</td>\n",
              "      <td id=\"T_68346_row1_col2\" class=\"data row1 col2\" >100101.000000</td>\n",
              "      <td id=\"T_68346_row1_col3\" class=\"data row1 col3\" >100115.000000</td>\n",
              "      <td id=\"T_68346_row1_col4\" class=\"data row1 col4\" >100601.000000</td>\n",
              "      <td id=\"T_68346_row1_col5\" class=\"data row1 col5\" >101101.000000</td>\n",
              "      <td id=\"T_68346_row1_col6\" class=\"data row1 col6\" >101502.000000</td>\n",
              "      <td id=\"T_68346_row1_col7\" class=\"data row1 col7\" >503.444647</td>\n",
              "    </tr>\n",
              "    <tr>\n",
              "      <th id=\"T_68346_level0_row2\" class=\"row_heading level0 row2\" >Due_Date</th>\n",
              "      <td id=\"T_68346_row2_col0\" class=\"data row2 col0\" >6213</td>\n",
              "      <td id=\"T_68346_row2_col1\" class=\"data row2 col1\" >2021-11-25 21:18:13.384838400</td>\n",
              "      <td id=\"T_68346_row2_col2\" class=\"data row2 col2\" >2015-01-31 00:00:00</td>\n",
              "      <td id=\"T_68346_row2_col3\" class=\"data row2 col3\" >2022-09-13 00:00:00</td>\n",
              "      <td id=\"T_68346_row2_col4\" class=\"data row2 col4\" >2022-10-11 00:00:00</td>\n",
              "      <td id=\"T_68346_row2_col5\" class=\"data row2 col5\" >2022-10-25 00:00:00</td>\n",
              "      <td id=\"T_68346_row2_col6\" class=\"data row2 col6\" >2022-12-16 00:00:00</td>\n",
              "      <td id=\"T_68346_row2_col7\" class=\"data row2 col7\" >nan</td>\n",
              "    </tr>\n",
              "    <tr>\n",
              "      <th id=\"T_68346_level0_row3\" class=\"row_heading level0 row3\" >Invoice_Amount</th>\n",
              "      <td id=\"T_68346_row3_col0\" class=\"data row3 col0\" >6213.000000</td>\n",
              "      <td id=\"T_68346_row3_col1\" class=\"data row3 col1\" >4541780.703745</td>\n",
              "      <td id=\"T_68346_row3_col2\" class=\"data row3 col2\" >30600.020000</td>\n",
              "      <td id=\"T_68346_row3_col3\" class=\"data row3 col3\" >449550.000000</td>\n",
              "      <td id=\"T_68346_row3_col4\" class=\"data row3 col4\" >846466.380000</td>\n",
              "      <td id=\"T_68346_row3_col5\" class=\"data row3 col5\" >2097900.000000</td>\n",
              "      <td id=\"T_68346_row3_col6\" class=\"data row3 col6\" >965216862.500000</td>\n",
              "      <td id=\"T_68346_row3_col7\" class=\"data row3 col7\" >25476256.427302</td>\n",
              "    </tr>\n",
              "    <tr>\n",
              "      <th id=\"T_68346_level0_row4\" class=\"row_heading level0 row4\" >Settlement</th>\n",
              "      <td id=\"T_68346_row4_col0\" class=\"data row4 col0\" >6213.000000</td>\n",
              "      <td id=\"T_68346_row4_col1\" class=\"data row4 col1\" >930531.060159</td>\n",
              "      <td id=\"T_68346_row4_col2\" class=\"data row4 col2\" >0.000000</td>\n",
              "      <td id=\"T_68346_row4_col3\" class=\"data row4 col3\" >0.000000</td>\n",
              "      <td id=\"T_68346_row4_col4\" class=\"data row4 col4\" >0.000000</td>\n",
              "      <td id=\"T_68346_row4_col5\" class=\"data row4 col5\" >0.000000</td>\n",
              "      <td id=\"T_68346_row4_col6\" class=\"data row4 col6\" >965216862.000000</td>\n",
              "      <td id=\"T_68346_row4_col7\" class=\"data row4 col7\" >14513719.902262</td>\n",
              "    </tr>\n",
              "    <tr>\n",
              "      <th id=\"T_68346_level0_row5\" class=\"row_heading level0 row5\" >Outstanding_AR</th>\n",
              "      <td id=\"T_68346_row5_col0\" class=\"data row5 col0\" >6213.000000</td>\n",
              "      <td id=\"T_68346_row5_col1\" class=\"data row5 col1\" >3611249.643586</td>\n",
              "      <td id=\"T_68346_row5_col2\" class=\"data row5 col2\" >0.010000</td>\n",
              "      <td id=\"T_68346_row5_col3\" class=\"data row5 col3\" >344172.370000</td>\n",
              "      <td id=\"T_68346_row5_col4\" class=\"data row5 col4\" >681904.080000</td>\n",
              "      <td id=\"T_68346_row5_col5\" class=\"data row5 col5\" >1674601.500000</td>\n",
              "      <td id=\"T_68346_row5_col6\" class=\"data row5 col6\" >550544183.890000</td>\n",
              "      <td id=\"T_68346_row5_col7\" class=\"data row5 col7\" >20382514.117983</td>\n",
              "    </tr>\n",
              "    <tr>\n",
              "      <th id=\"T_68346_level0_row6\" class=\"row_heading level0 row6\" >Cutoff_Date</th>\n",
              "      <td id=\"T_68346_row6_col0\" class=\"data row6 col0\" >6213</td>\n",
              "      <td id=\"T_68346_row6_col1\" class=\"data row6 col1\" >2022-10-17 23:59:59.999999744</td>\n",
              "      <td id=\"T_68346_row6_col2\" class=\"data row6 col2\" >2022-10-18 00:00:00</td>\n",
              "      <td id=\"T_68346_row6_col3\" class=\"data row6 col3\" >2022-10-18 00:00:00</td>\n",
              "      <td id=\"T_68346_row6_col4\" class=\"data row6 col4\" >2022-10-18 00:00:00</td>\n",
              "      <td id=\"T_68346_row6_col5\" class=\"data row6 col5\" >2022-10-18 00:00:00</td>\n",
              "      <td id=\"T_68346_row6_col6\" class=\"data row6 col6\" >2022-10-18 00:00:00</td>\n",
              "      <td id=\"T_68346_row6_col7\" class=\"data row6 col7\" >nan</td>\n",
              "    </tr>\n",
              "    <tr>\n",
              "      <th id=\"T_68346_level0_row7\" class=\"row_heading level0 row7\" >Umur Piutang ( Hari )</th>\n",
              "      <td id=\"T_68346_row7_col0\" class=\"data row7 col0\" >6213.000000</td>\n",
              "      <td id=\"T_68346_row7_col1\" class=\"data row7 col1\" >350.304845</td>\n",
              "      <td id=\"T_68346_row7_col2\" class=\"data row7 col2\" >1.000000</td>\n",
              "      <td id=\"T_68346_row7_col3\" class=\"data row7 col3\" >18.000000</td>\n",
              "      <td id=\"T_68346_row7_col4\" class=\"data row7 col4\" >29.000000</td>\n",
              "      <td id=\"T_68346_row7_col5\" class=\"data row7 col5\" >61.000000</td>\n",
              "      <td id=\"T_68346_row7_col6\" class=\"data row7 col6\" >2838.000000</td>\n",
              "      <td id=\"T_68346_row7_col7\" class=\"data row7 col7\" >726.254777</td>\n",
              "    </tr>\n",
              "    <tr>\n",
              "      <th id=\"T_68346_level0_row8\" class=\"row_heading level0 row8\" >Durasi_Keterlambatan</th>\n",
              "      <td id=\"T_68346_row8_col0\" class=\"data row8 col0\" >6213.000000</td>\n",
              "      <td id=\"T_68346_row8_col1\" class=\"data row8 col1\" >326.112345</td>\n",
              "      <td id=\"T_68346_row8_col2\" class=\"data row8 col2\" >-59.000000</td>\n",
              "      <td id=\"T_68346_row8_col3\" class=\"data row8 col3\" >-7.000000</td>\n",
              "      <td id=\"T_68346_row8_col4\" class=\"data row8 col4\" >7.000000</td>\n",
              "      <td id=\"T_68346_row8_col5\" class=\"data row8 col5\" >35.000000</td>\n",
              "      <td id=\"T_68346_row8_col6\" class=\"data row8 col6\" >2817.000000</td>\n",
              "      <td id=\"T_68346_row8_col7\" class=\"data row8 col7\" >727.695203</td>\n",
              "    </tr>\n",
              "    <tr>\n",
              "      <th id=\"T_68346_level0_row9\" class=\"row_heading level0 row9\" >Trans_DateMonth</th>\n",
              "      <td id=\"T_68346_row9_col0\" class=\"data row9 col0\" >6213.000000</td>\n",
              "      <td id=\"T_68346_row9_col1\" class=\"data row9 col1\" >0.700520</td>\n",
              "      <td id=\"T_68346_row9_col2\" class=\"data row9 col2\" >0.083333</td>\n",
              "      <td id=\"T_68346_row9_col3\" class=\"data row9 col3\" >0.666667</td>\n",
              "      <td id=\"T_68346_row9_col4\" class=\"data row9 col4\" >0.750000</td>\n",
              "      <td id=\"T_68346_row9_col5\" class=\"data row9 col5\" >0.833333</td>\n",
              "      <td id=\"T_68346_row9_col6\" class=\"data row9 col6\" >1.000000</td>\n",
              "      <td id=\"T_68346_row9_col7\" class=\"data row9 col7\" >0.179670</td>\n",
              "    </tr>\n",
              "    <tr>\n",
              "      <th id=\"T_68346_level0_row10\" class=\"row_heading level0 row10\" >Trans_DateDay</th>\n",
              "      <td id=\"T_68346_row10_col0\" class=\"data row10 col0\" >6213.000000</td>\n",
              "      <td id=\"T_68346_row10_col1\" class=\"data row10 col1\" >0.573397</td>\n",
              "      <td id=\"T_68346_row10_col2\" class=\"data row10 col2\" >0.032258</td>\n",
              "      <td id=\"T_68346_row10_col3\" class=\"data row10 col3\" >0.322581</td>\n",
              "      <td id=\"T_68346_row10_col4\" class=\"data row10 col4\" >0.548387</td>\n",
              "      <td id=\"T_68346_row10_col5\" class=\"data row10 col5\" >0.838710</td>\n",
              "      <td id=\"T_68346_row10_col6\" class=\"data row10 col6\" >1.000000</td>\n",
              "      <td id=\"T_68346_row10_col7\" class=\"data row10 col7\" >0.278848</td>\n",
              "    </tr>\n",
              "    <tr>\n",
              "      <th id=\"T_68346_level0_row11\" class=\"row_heading level0 row11\" >Due_DateMonth</th>\n",
              "      <td id=\"T_68346_row11_col0\" class=\"data row11 col0\" >6213.000000</td>\n",
              "      <td id=\"T_68346_row11_col1\" class=\"data row11 col1\" >0.761334</td>\n",
              "      <td id=\"T_68346_row11_col2\" class=\"data row11 col2\" >0.083333</td>\n",
              "      <td id=\"T_68346_row11_col3\" class=\"data row11 col3\" >0.750000</td>\n",
              "      <td id=\"T_68346_row11_col4\" class=\"data row11 col4\" >0.833333</td>\n",
              "      <td id=\"T_68346_row11_col5\" class=\"data row11 col5\" >0.833333</td>\n",
              "      <td id=\"T_68346_row11_col6\" class=\"data row11 col6\" >1.000000</td>\n",
              "      <td id=\"T_68346_row11_col7\" class=\"data row11 col7\" >0.192785</td>\n",
              "    </tr>\n",
              "    <tr>\n",
              "      <th id=\"T_68346_level0_row12\" class=\"row_heading level0 row12\" >Due_DateDay</th>\n",
              "      <td id=\"T_68346_row12_col0\" class=\"data row12 col0\" >6213.000000</td>\n",
              "      <td id=\"T_68346_row12_col1\" class=\"data row12 col1\" >0.509255</td>\n",
              "      <td id=\"T_68346_row12_col2\" class=\"data row12 col2\" >0.032258</td>\n",
              "      <td id=\"T_68346_row12_col3\" class=\"data row12 col3\" >0.258065</td>\n",
              "      <td id=\"T_68346_row12_col4\" class=\"data row12 col4\" >0.516129</td>\n",
              "      <td id=\"T_68346_row12_col5\" class=\"data row12 col5\" >0.709677</td>\n",
              "      <td id=\"T_68346_row12_col6\" class=\"data row12 col6\" >1.000000</td>\n",
              "      <td id=\"T_68346_row12_col7\" class=\"data row12 col7\" >0.287106</td>\n",
              "    </tr>\n",
              "  </tbody>\n",
              "</table>\n"
            ],
            "text/plain": [
              "<pandas.io.formats.style.Styler at 0x7f959101f6d0>"
            ]
          },
          "execution_count": 19,
          "metadata": {},
          "output_type": "execute_result"
        }
      ],
      "source": [
        "df.describe().T.style.set_properties(**{'background-color':'grey','color':'white','border-color':'white'})"
      ]
    },
    {
      "cell_type": "code",
      "execution_count": null,
      "metadata": {
        "id": "6gGKHhuWDKYA"
      },
      "outputs": [],
      "source": [
        "def aging_category(Aging):\n",
        "  if Aging == '≤30' :\n",
        "    return 1\n",
        "  elif Aging == '31-60':\n",
        "          return 2\n",
        "  elif Aging == '61-90':\n",
        "          return 3\n",
        "  elif Aging == '91-120':\n",
        "          return 4\n",
        "  if Aging == '>120' :\n",
        "          return 5\n",
        "  else:\n",
        "    return 0"
      ]
    },
    {
      "cell_type": "code",
      "execution_count": null,
      "metadata": {
        "colab": {
          "base_uri": "https://localhost:8080/"
        },
        "id": "Jn7gWkc4DN_J",
        "outputId": "cb1aa40a-340b-4792-a347-7c7e955fee9e"
      },
      "outputs": [
        {
          "name": "stderr",
          "output_type": "stream",
          "text": [
            "<ipython-input-21-6cd91429f882>:1: SettingWithCopyWarning:\n",
            "\n",
            "\n",
            "A value is trying to be set on a copy of a slice from a DataFrame.\n",
            "Try using .loc[row_indexer,col_indexer] = value instead\n",
            "\n",
            "See the caveats in the documentation: https://pandas.pydata.org/pandas-docs/stable/user_guide/indexing.html#returning-a-view-versus-a-copy\n",
            "\n"
          ]
        }
      ],
      "source": [
        "df['Aging'] = df['Aging'].apply(aging_category)"
      ]
    },
    {
      "cell_type": "code",
      "execution_count": null,
      "metadata": {
        "colab": {
          "base_uri": "https://localhost:8080/"
        },
        "id": "Neu9tUgsDQ4Z",
        "outputId": "ac046cc4-4563-4874-83e1-62100cb01167"
      },
      "outputs": [
        {
          "name": "stdout",
          "output_type": "stream",
          "text": [
            "     Customer_Code Customer_X                Customer_Name Trans_Date  \\\n",
            "0        C10-00002    Reguler      2 OSCAR APT. (SURABAYA) 2022-10-06   \n",
            "1        C10-00002    Reguler      2 OSCAR APT. (SURABAYA) 2022-10-07   \n",
            "2        C10-00012    Reguler         AGRIPA APT(SURABAYA) 2022-10-07   \n",
            "3        C10-00016    Reguler              BONNET SWALAYAN 2022-09-12   \n",
            "4        C10-00029    Reguler        ALISA APT. (MOJOARUM) 2022-09-12   \n",
            "...            ...        ...                          ...        ...   \n",
            "6971     C10-99090    Reguler                    NURHAYATI 2022-10-10   \n",
            "6972     C10-99118    Reguler  MUCHAMMAD MASTUR ISDYANTORO 2022-09-19   \n",
            "6974     C10-99118    Reguler  MUCHAMMAD MASTUR ISDYANTORO 2022-09-30   \n",
            "6975     C10-99118    Reguler  MUCHAMMAD MASTUR ISDYANTORO 2022-09-30   \n",
            "6976     C10-99118    Reguler  MUCHAMMAD MASTUR ISDYANTORO 2022-10-10   \n",
            "\n",
            "       Nomor_Faktur_Pajak Invoice Voucher Type_Jual Kode_Salesman  \\\n",
            "0     010.008-22.04800051  821043  777683   Reguler             4   \n",
            "1     010.008-22.04800198  821372  777830   Reguler             4   \n",
            "2     010.008-22.04800174  821237  777806   Reguler             4   \n",
            "3     010.008-22.04797213  818011  774846   Reguler            68   \n",
            "4     010.008-22.04797278  818252  774911   Reguler            45   \n",
            "...                   ...     ...     ...       ...           ...   \n",
            "6971  010.008-22.04800364  821540  777996   Reguler            63   \n",
            "6972  010.008-22.04797992  818994  775625   Reguler            74   \n",
            "6974  010.008-22.04799808  820514  777440   Reguler            74   \n",
            "6975  010.008-22.04799820  820836  777452   Reguler            74   \n",
            "6976  010.008-22.04800436  821314  778068   Reguler            74   \n",
            "\n",
            "           Nama_Salesman  ... Aging    Cabang  Durasi_Keterlambatan  \\\n",
            "0      Geger Harianto S.  ...     1  Surabaya                  -9.0   \n",
            "1      Geger Harianto S.  ...     1  Surabaya                 -10.0   \n",
            "2      Geger Harianto S.  ...     1  Surabaya                   4.0   \n",
            "3     Amilatatus Solecha  ...     2  Surabaya                  15.0   \n",
            "4            Kokok Teguh  ...     2  Surabaya                  15.0   \n",
            "...                  ...  ...   ...       ...                   ...   \n",
            "6971         Sugihartono  ...     1  Surabaya                 -13.0   \n",
            "6972   Yonathan Leonardo  ...     1  Surabaya                  22.0   \n",
            "6974   Yonathan Leonardo  ...     1  Surabaya                  11.0   \n",
            "6975   Yonathan Leonardo  ...     1  Surabaya                  11.0   \n",
            "6976   Yonathan Leonardo  ...     1  Surabaya                   1.0   \n",
            "\n",
            "     Trans_DateOnly Due_DateOnly  Cutoff_DateOnly  Trans_DateMonth  \\\n",
            "0        2022-10-06   2022-10-27       2022-10-18         0.833333   \n",
            "1        2022-10-07   2022-10-28       2022-10-18         0.833333   \n",
            "2        2022-10-07   2022-10-14       2022-10-18         0.833333   \n",
            "3        2022-09-12   2022-10-03       2022-10-18         0.750000   \n",
            "4        2022-09-12   2022-10-03       2022-10-18         0.750000   \n",
            "...             ...          ...              ...              ...   \n",
            "6971     2022-10-10   2022-10-31       2022-10-18         0.833333   \n",
            "6972     2022-09-19   2022-09-26       2022-10-18         0.750000   \n",
            "6974     2022-09-30   2022-10-07       2022-10-18         0.750000   \n",
            "6975     2022-09-30   2022-10-07       2022-10-18         0.750000   \n",
            "6976     2022-10-10   2022-10-17       2022-10-18         0.833333   \n",
            "\n",
            "      Trans_DateDay Due_DateMonth  Due_DateDay  \n",
            "0          0.193548      0.833333     0.870968  \n",
            "1          0.225806      0.833333     0.903226  \n",
            "2          0.225806      0.833333     0.451613  \n",
            "3          0.387097      0.833333     0.096774  \n",
            "4          0.387097      0.833333     0.096774  \n",
            "...             ...           ...          ...  \n",
            "6971       0.322581      0.833333     1.000000  \n",
            "6972       0.612903      0.750000     0.838710  \n",
            "6974       0.967742      0.833333     0.225806  \n",
            "6975       0.967742      0.833333     0.225806  \n",
            "6976       0.322581      0.833333     0.548387  \n",
            "\n",
            "[6213 rows x 30 columns]\n"
          ]
        }
      ],
      "source": [
        "print(df)"
      ]
    },
    {
      "cell_type": "code",
      "execution_count": null,
      "metadata": {
        "id": "r9P5ZCXcDUGN"
      },
      "outputs": [],
      "source": [
        "def Late_Category(Durasi_Keterlambatan):\n",
        "    if Durasi_Keterlambatan > 0 :\n",
        "        return 1\n",
        "\n",
        "\n",
        "    else:\n",
        "        return 0  # Default value jika tidak memenuhi kriteria di atas"
      ]
    },
    {
      "cell_type": "code",
      "execution_count": null,
      "metadata": {
        "colab": {
          "base_uri": "https://localhost:8080/"
        },
        "id": "zsaJhAudDiVe",
        "outputId": "67ab362e-2af8-4237-e42f-aee93d712263"
      },
      "outputs": [
        {
          "name": "stderr",
          "output_type": "stream",
          "text": [
            "<ipython-input-24-0da0c876a934>:1: SettingWithCopyWarning:\n",
            "\n",
            "\n",
            "A value is trying to be set on a copy of a slice from a DataFrame.\n",
            "Try using .loc[row_indexer,col_indexer] = value instead\n",
            "\n",
            "See the caveats in the documentation: https://pandas.pydata.org/pandas-docs/stable/user_guide/indexing.html#returning-a-view-versus-a-copy\n",
            "\n"
          ]
        }
      ],
      "source": [
        "df['Late_Category'] = df['Durasi_Keterlambatan'].apply(Late_Category)"
      ]
    },
    {
      "cell_type": "code",
      "execution_count": null,
      "metadata": {
        "colab": {
          "base_uri": "https://localhost:8080/"
        },
        "id": "uZGZ6HrgDlez",
        "outputId": "155acb12-69bc-4227-e63c-ade14627177d"
      },
      "outputs": [
        {
          "name": "stdout",
          "output_type": "stream",
          "text": [
            "     Customer_Code Customer_X                Customer_Name Trans_Date  \\\n",
            "0        C10-00002    Reguler      2 OSCAR APT. (SURABAYA) 2022-10-06   \n",
            "1        C10-00002    Reguler      2 OSCAR APT. (SURABAYA) 2022-10-07   \n",
            "2        C10-00012    Reguler         AGRIPA APT(SURABAYA) 2022-10-07   \n",
            "3        C10-00016    Reguler              BONNET SWALAYAN 2022-09-12   \n",
            "4        C10-00029    Reguler        ALISA APT. (MOJOARUM) 2022-09-12   \n",
            "...            ...        ...                          ...        ...   \n",
            "6971     C10-99090    Reguler                    NURHAYATI 2022-10-10   \n",
            "6972     C10-99118    Reguler  MUCHAMMAD MASTUR ISDYANTORO 2022-09-19   \n",
            "6974     C10-99118    Reguler  MUCHAMMAD MASTUR ISDYANTORO 2022-09-30   \n",
            "6975     C10-99118    Reguler  MUCHAMMAD MASTUR ISDYANTORO 2022-09-30   \n",
            "6976     C10-99118    Reguler  MUCHAMMAD MASTUR ISDYANTORO 2022-10-10   \n",
            "\n",
            "       Nomor_Faktur_Pajak Invoice Voucher Type_Jual Kode_Salesman  \\\n",
            "0     010.008-22.04800051  821043  777683   Reguler             4   \n",
            "1     010.008-22.04800198  821372  777830   Reguler             4   \n",
            "2     010.008-22.04800174  821237  777806   Reguler             4   \n",
            "3     010.008-22.04797213  818011  774846   Reguler            68   \n",
            "4     010.008-22.04797278  818252  774911   Reguler            45   \n",
            "...                   ...     ...     ...       ...           ...   \n",
            "6971  010.008-22.04800364  821540  777996   Reguler            63   \n",
            "6972  010.008-22.04797992  818994  775625   Reguler            74   \n",
            "6974  010.008-22.04799808  820514  777440   Reguler            74   \n",
            "6975  010.008-22.04799820  820836  777452   Reguler            74   \n",
            "6976  010.008-22.04800436  821314  778068   Reguler            74   \n",
            "\n",
            "           Nama_Salesman  ...    Cabang Durasi_Keterlambatan  Trans_DateOnly  \\\n",
            "0      Geger Harianto S.  ...  Surabaya                 -9.0      2022-10-06   \n",
            "1      Geger Harianto S.  ...  Surabaya                -10.0      2022-10-07   \n",
            "2      Geger Harianto S.  ...  Surabaya                  4.0      2022-10-07   \n",
            "3     Amilatatus Solecha  ...  Surabaya                 15.0      2022-09-12   \n",
            "4            Kokok Teguh  ...  Surabaya                 15.0      2022-09-12   \n",
            "...                  ...  ...       ...                  ...             ...   \n",
            "6971         Sugihartono  ...  Surabaya                -13.0      2022-10-10   \n",
            "6972   Yonathan Leonardo  ...  Surabaya                 22.0      2022-09-19   \n",
            "6974   Yonathan Leonardo  ...  Surabaya                 11.0      2022-09-30   \n",
            "6975   Yonathan Leonardo  ...  Surabaya                 11.0      2022-09-30   \n",
            "6976   Yonathan Leonardo  ...  Surabaya                  1.0      2022-10-10   \n",
            "\n",
            "     Due_DateOnly Cutoff_DateOnly  Trans_DateMonth  Trans_DateDay  \\\n",
            "0      2022-10-27      2022-10-18         0.833333       0.193548   \n",
            "1      2022-10-28      2022-10-18         0.833333       0.225806   \n",
            "2      2022-10-14      2022-10-18         0.833333       0.225806   \n",
            "3      2022-10-03      2022-10-18         0.750000       0.387097   \n",
            "4      2022-10-03      2022-10-18         0.750000       0.387097   \n",
            "...           ...             ...              ...            ...   \n",
            "6971   2022-10-31      2022-10-18         0.833333       0.322581   \n",
            "6972   2022-09-26      2022-10-18         0.750000       0.612903   \n",
            "6974   2022-10-07      2022-10-18         0.750000       0.967742   \n",
            "6975   2022-10-07      2022-10-18         0.750000       0.967742   \n",
            "6976   2022-10-17      2022-10-18         0.833333       0.322581   \n",
            "\n",
            "      Due_DateMonth Due_DateDay  Late_Category  \n",
            "0          0.833333    0.870968              0  \n",
            "1          0.833333    0.903226              0  \n",
            "2          0.833333    0.451613              1  \n",
            "3          0.833333    0.096774              1  \n",
            "4          0.833333    0.096774              1  \n",
            "...             ...         ...            ...  \n",
            "6971       0.833333    1.000000              0  \n",
            "6972       0.750000    0.838710              1  \n",
            "6974       0.833333    0.225806              1  \n",
            "6975       0.833333    0.225806              1  \n",
            "6976       0.833333    0.548387              1  \n",
            "\n",
            "[6213 rows x 31 columns]\n"
          ]
        }
      ],
      "source": [
        "print(df)"
      ]
    },
    {
      "cell_type": "code",
      "execution_count": null,
      "metadata": {
        "colab": {
          "base_uri": "https://localhost:8080/"
        },
        "id": "pzo-nx2ZDocl",
        "outputId": "2b1158c3-a775-4e2f-d09c-a35fb6c2a942"
      },
      "outputs": [
        {
          "name": "stdout",
          "output_type": "stream",
          "text": [
            "Late_Category\n",
            "1    3696\n",
            "0    2517\n",
            "Name: count, dtype: int64\n"
          ]
        }
      ],
      "source": [
        "print(df['Late_Category'].value_counts())"
      ]
    },
    {
      "cell_type": "code",
      "execution_count": null,
      "metadata": {
        "colab": {
          "base_uri": "https://localhost:8080/"
        },
        "id": "y0efgjn5Du3v",
        "outputId": "714e3967-a995-4d3b-8d35-48288d298d34"
      },
      "outputs": [
        {
          "name": "stdout",
          "output_type": "stream",
          "text": [
            "     Trans_Date   Due_Date Cutoff_Date  Late_Category\n",
            "0    2022-10-06 2022-10-27  2022-10-18              0\n",
            "1    2022-10-07 2022-10-28  2022-10-18              0\n",
            "2    2022-10-07 2022-10-14  2022-10-18              1\n",
            "3    2022-09-12 2022-10-03  2022-10-18              1\n",
            "4    2022-09-12 2022-10-03  2022-10-18              1\n",
            "...         ...        ...         ...            ...\n",
            "6971 2022-10-10 2022-10-31  2022-10-18              0\n",
            "6972 2022-09-19 2022-09-26  2022-10-18              1\n",
            "6974 2022-09-30 2022-10-07  2022-10-18              1\n",
            "6975 2022-09-30 2022-10-07  2022-10-18              1\n",
            "6976 2022-10-10 2022-10-17  2022-10-18              1\n",
            "\n",
            "[6213 rows x 4 columns]\n"
          ]
        }
      ],
      "source": [
        "columns_keep = ['Due_Date', 'Trans_Date', 'Cutoff_Date', 'Late_Category']\n",
        "\n",
        "df = df.drop(columns=[col for col in df.columns if col not in columns_keep])\n",
        "print(df)"
      ]
    },
    {
      "cell_type": "code",
      "execution_count": null,
      "metadata": {
        "id": "htn1hsa_Dyel"
      },
      "outputs": [],
      "source": [
        "df['Trans_Month'] = df['Trans_Date'].dt.month\n",
        "df['Trans_Day'] = df['Trans_Date'].dt.day\n",
        "df['Trans_Year'] = df['Trans_Date'].dt.year\n",
        "\n",
        "df['Due_Month'] = df['Due_Date'].dt.month\n",
        "df['Due_Day'] = df['Due_Date'].dt.day\n",
        "df['Due_Year'] = df['Due_Date'].dt.year\n",
        "\n",
        "df['Cutoff_Month'] = df['Cutoff_Date'].dt.month\n",
        "df['Cutoff_Day'] = df['Cutoff_Date'].dt.day\n",
        "df['Cutoff_Year'] = df['Cutoff_Date'].dt.year"
      ]
    },
    {
      "cell_type": "code",
      "execution_count": null,
      "metadata": {
        "colab": {
          "base_uri": "https://localhost:8080/"
        },
        "id": "-ljGChkoD1-6",
        "outputId": "cdf1a529-b2f3-4ac5-b60d-7766f35b79e9"
      },
      "outputs": [
        {
          "name": "stdout",
          "output_type": "stream",
          "text": [
            "      Late_Category  Trans_Month  Trans_Day  Trans_Year  Due_Month  Due_Day  \\\n",
            "0                 0           10          6        2022         10       27   \n",
            "1                 0           10          7        2022         10       28   \n",
            "2                 1           10          7        2022         10       14   \n",
            "3                 1            9         12        2022         10        3   \n",
            "4                 1            9         12        2022         10        3   \n",
            "...             ...          ...        ...         ...        ...      ...   \n",
            "6971              0           10         10        2022         10       31   \n",
            "6972              1            9         19        2022          9       26   \n",
            "6974              1            9         30        2022         10        7   \n",
            "6975              1            9         30        2022         10        7   \n",
            "6976              1           10         10        2022         10       17   \n",
            "\n",
            "      Due_Year  Cutoff_Month  Cutoff_Day  Cutoff_Year  \n",
            "0         2022            10          18         2022  \n",
            "1         2022            10          18         2022  \n",
            "2         2022            10          18         2022  \n",
            "3         2022            10          18         2022  \n",
            "4         2022            10          18         2022  \n",
            "...        ...           ...         ...          ...  \n",
            "6971      2022            10          18         2022  \n",
            "6972      2022            10          18         2022  \n",
            "6974      2022            10          18         2022  \n",
            "6975      2022            10          18         2022  \n",
            "6976      2022            10          18         2022  \n",
            "\n",
            "[6213 rows x 10 columns]\n"
          ]
        }
      ],
      "source": [
        "columns_drop = ['Due_Date', 'Trans_Date', 'Cutoff_Date']\n",
        "\n",
        "df = df.drop(columns=[col for col in df.columns if col in columns_drop])\n",
        "print(df)"
      ]
    },
    {
      "cell_type": "code",
      "execution_count": null,
      "metadata": {
        "id": "_qcH7qWtESCq"
      },
      "outputs": [],
      "source": [
        "X = df.iloc[:, 1:].values\n",
        "Y = df.iloc[:, 0].values"
      ]
    },
    {
      "cell_type": "code",
      "execution_count": null,
      "metadata": {
        "colab": {
          "base_uri": "https://localhost:8080/"
        },
        "id": "2ikrEfCGEUMm",
        "outputId": "25d947d5-3a93-4d4a-8d6f-1ade377d1080"
      },
      "outputs": [
        {
          "data": {
            "text/plain": [
              "(6213, 9)"
            ]
          },
          "execution_count": 31,
          "metadata": {},
          "output_type": "execute_result"
        }
      ],
      "source": [
        "X.shape"
      ]
    },
    {
      "cell_type": "code",
      "execution_count": null,
      "metadata": {
        "colab": {
          "base_uri": "https://localhost:8080/"
        },
        "id": "t1zAvevOEXlR",
        "outputId": "a043bd05-b518-4aac-d98b-3ff2f3e9e681"
      },
      "outputs": [
        {
          "data": {
            "text/plain": [
              "(6213,)"
            ]
          },
          "execution_count": 32,
          "metadata": {},
          "output_type": "execute_result"
        }
      ],
      "source": [
        "Y.shape"
      ]
    },
    {
      "cell_type": "code",
      "execution_count": null,
      "metadata": {
        "colab": {
          "base_uri": "https://localhost:8080/"
        },
        "id": "WxhuyaejEcfE",
        "outputId": "bcaf0fa8-7419-413b-bec5-7bc1fc6bd9b2"
      },
      "outputs": [
        {
          "data": {
            "text/plain": [
              "array([[  10,    6, 2022, ...,   10,   18, 2022],\n",
              "       [  10,    7, 2022, ...,   10,   18, 2022],\n",
              "       [  10,    7, 2022, ...,   10,   18, 2022],\n",
              "       ...,\n",
              "       [   9,   30, 2022, ...,   10,   18, 2022],\n",
              "       [   9,   30, 2022, ...,   10,   18, 2022],\n",
              "       [  10,   10, 2022, ...,   10,   18, 2022]], dtype=int32)"
            ]
          },
          "execution_count": 33,
          "metadata": {},
          "output_type": "execute_result"
        }
      ],
      "source": [
        "X"
      ]
    },
    {
      "cell_type": "code",
      "execution_count": null,
      "metadata": {
        "colab": {
          "base_uri": "https://localhost:8080/"
        },
        "id": "4HLmqqFHEfnz",
        "outputId": "84c3e78b-113a-40f6-8302-f787a6ca21eb"
      },
      "outputs": [
        {
          "data": {
            "text/plain": [
              "array([0, 0, 1, ..., 1, 1, 1])"
            ]
          },
          "execution_count": 34,
          "metadata": {},
          "output_type": "execute_result"
        }
      ],
      "source": [
        "Y"
      ]
    },
    {
      "cell_type": "code",
      "execution_count": null,
      "metadata": {
        "id": "BEkHfO0_EiJl"
      },
      "outputs": [],
      "source": [
        "X_train, X_test, Y_train, Y_test = train_test_split(X, Y, test_size=0.2, random_state=42)"
      ]
    },
    {
      "cell_type": "code",
      "execution_count": null,
      "metadata": {
        "colab": {
          "base_uri": "https://localhost:8080/"
        },
        "id": "oXfHXQOLElqI",
        "outputId": "20de6479-8a0b-4654-cf21-91003002dd88"
      },
      "outputs": [
        {
          "data": {
            "text/plain": [
              "array([[   5,   18, 2021, ...,   10,   18, 2022],\n",
              "       [   9,   14, 2016, ...,   10,   18, 2022],\n",
              "       [  10,   24, 2017, ...,   10,   18, 2022],\n",
              "       ...,\n",
              "       [  10,   17, 2022, ...,   10,   18, 2022],\n",
              "       [   9,   23, 2022, ...,   10,   18, 2022],\n",
              "       [   6,    8, 2018, ...,   10,   18, 2022]], dtype=int32)"
            ]
          },
          "execution_count": 36,
          "metadata": {},
          "output_type": "execute_result"
        }
      ],
      "source": [
        "X_train"
      ]
    },
    {
      "cell_type": "code",
      "execution_count": null,
      "metadata": {
        "colab": {
          "base_uri": "https://localhost:8080/"
        },
        "id": "Bwm-qd0JEpai",
        "outputId": "8a1ff315-961c-47b4-94b9-3c12a4eeec8c"
      },
      "outputs": [
        {
          "data": {
            "text/plain": [
              "array([[  10,   17, 2017, ...,   10,   18, 2022],\n",
              "       [  10,   12, 2022, ...,   10,   18, 2022],\n",
              "       [   2,   23, 2018, ...,   10,   18, 2022],\n",
              "       ...,\n",
              "       [   9,    8, 2022, ...,   10,   18, 2022],\n",
              "       [   9,   23, 2022, ...,   10,   18, 2022],\n",
              "       [   9,   28, 2022, ...,   10,   18, 2022]], dtype=int32)"
            ]
          },
          "execution_count": 37,
          "metadata": {},
          "output_type": "execute_result"
        }
      ],
      "source": [
        "X_test"
      ]
    },
    {
      "cell_type": "code",
      "execution_count": null,
      "metadata": {
        "colab": {
          "base_uri": "https://localhost:8080/"
        },
        "id": "LtNWR1BZEv8E",
        "outputId": "2cec0b68-a7cf-4249-b28f-5a31004d393c"
      },
      "outputs": [
        {
          "data": {
            "text/plain": [
              "(4970, 9)"
            ]
          },
          "execution_count": 38,
          "metadata": {},
          "output_type": "execute_result"
        }
      ],
      "source": [
        "X_train.shape"
      ]
    },
    {
      "cell_type": "code",
      "execution_count": null,
      "metadata": {
        "colab": {
          "base_uri": "https://localhost:8080/"
        },
        "id": "Kf2FCBsTEywm",
        "outputId": "93c47874-7b41-4b57-f5c2-f74a7b3ac503"
      },
      "outputs": [
        {
          "data": {
            "text/plain": [
              "(4970,)"
            ]
          },
          "execution_count": 39,
          "metadata": {},
          "output_type": "execute_result"
        }
      ],
      "source": [
        "Y_train.shape"
      ]
    },
    {
      "cell_type": "code",
      "execution_count": null,
      "metadata": {
        "colab": {
          "base_uri": "https://localhost:8080/"
        },
        "id": "NPAZpHBNE1nR",
        "outputId": "b44935b0-0b25-43aa-9ac6-4fb4af1621d3"
      },
      "outputs": [
        {
          "data": {
            "text/plain": [
              "array([1, 1, 1, ..., 0, 1, 1])"
            ]
          },
          "execution_count": 40,
          "metadata": {},
          "output_type": "execute_result"
        }
      ],
      "source": [
        "Y_train"
      ]
    },
    {
      "cell_type": "code",
      "execution_count": null,
      "metadata": {
        "colab": {
          "base_uri": "https://localhost:8080/"
        },
        "id": "oedA9slXE4RE",
        "outputId": "1ce78cea-b378-4845-835c-6f215221e83d"
      },
      "outputs": [
        {
          "data": {
            "text/plain": [
              "array([1, 0, 1, ..., 0, 1, 0])"
            ]
          },
          "execution_count": 41,
          "metadata": {},
          "output_type": "execute_result"
        }
      ],
      "source": [
        "Y_test"
      ]
    },
    {
      "cell_type": "markdown",
      "metadata": {
        "id": "uZWtWo-pE7ZP"
      },
      "source": [
        "# Metode Naive Bayes"
      ]
    },
    {
      "cell_type": "code",
      "execution_count": null,
      "metadata": {
        "id": "8Autq8_YFAwS"
      },
      "outputs": [],
      "source": [
        "nb_clf = GaussianNB()"
      ]
    },
    {
      "cell_type": "code",
      "execution_count": null,
      "metadata": {
        "colab": {
          "base_uri": "https://localhost:8080/",
          "height": 80
        },
        "id": "ihK7xgbyFECK",
        "outputId": "e2bd6b33-03ca-484a-c803-0b4796208658"
      },
      "outputs": [
        {
          "data": {
            "text/html": [
              "<style>#sk-container-id-1 {\n",
              "  /* Definition of color scheme common for light and dark mode */\n",
              "  --sklearn-color-text: black;\n",
              "  --sklearn-color-line: gray;\n",
              "  /* Definition of color scheme for unfitted estimators */\n",
              "  --sklearn-color-unfitted-level-0: #fff5e6;\n",
              "  --sklearn-color-unfitted-level-1: #f6e4d2;\n",
              "  --sklearn-color-unfitted-level-2: #ffe0b3;\n",
              "  --sklearn-color-unfitted-level-3: chocolate;\n",
              "  /* Definition of color scheme for fitted estimators */\n",
              "  --sklearn-color-fitted-level-0: #f0f8ff;\n",
              "  --sklearn-color-fitted-level-1: #d4ebff;\n",
              "  --sklearn-color-fitted-level-2: #b3dbfd;\n",
              "  --sklearn-color-fitted-level-3: cornflowerblue;\n",
              "\n",
              "  /* Specific color for light theme */\n",
              "  --sklearn-color-text-on-default-background: var(--sg-text-color, var(--theme-code-foreground, var(--jp-content-font-color1, black)));\n",
              "  --sklearn-color-background: var(--sg-background-color, var(--theme-background, var(--jp-layout-color0, white)));\n",
              "  --sklearn-color-border-box: var(--sg-text-color, var(--theme-code-foreground, var(--jp-content-font-color1, black)));\n",
              "  --sklearn-color-icon: #696969;\n",
              "\n",
              "  @media (prefers-color-scheme: dark) {\n",
              "    /* Redefinition of color scheme for dark theme */\n",
              "    --sklearn-color-text-on-default-background: var(--sg-text-color, var(--theme-code-foreground, var(--jp-content-font-color1, white)));\n",
              "    --sklearn-color-background: var(--sg-background-color, var(--theme-background, var(--jp-layout-color0, #111)));\n",
              "    --sklearn-color-border-box: var(--sg-text-color, var(--theme-code-foreground, var(--jp-content-font-color1, white)));\n",
              "    --sklearn-color-icon: #878787;\n",
              "  }\n",
              "}\n",
              "\n",
              "#sk-container-id-1 {\n",
              "  color: var(--sklearn-color-text);\n",
              "}\n",
              "\n",
              "#sk-container-id-1 pre {\n",
              "  padding: 0;\n",
              "}\n",
              "\n",
              "#sk-container-id-1 input.sk-hidden--visually {\n",
              "  border: 0;\n",
              "  clip: rect(1px 1px 1px 1px);\n",
              "  clip: rect(1px, 1px, 1px, 1px);\n",
              "  height: 1px;\n",
              "  margin: -1px;\n",
              "  overflow: hidden;\n",
              "  padding: 0;\n",
              "  position: absolute;\n",
              "  width: 1px;\n",
              "}\n",
              "\n",
              "#sk-container-id-1 div.sk-dashed-wrapped {\n",
              "  border: 1px dashed var(--sklearn-color-line);\n",
              "  margin: 0 0.4em 0.5em 0.4em;\n",
              "  box-sizing: border-box;\n",
              "  padding-bottom: 0.4em;\n",
              "  background-color: var(--sklearn-color-background);\n",
              "}\n",
              "\n",
              "#sk-container-id-1 div.sk-container {\n",
              "  /* jupyter's `normalize.less` sets `[hidden] { display: none; }`\n",
              "     but bootstrap.min.css set `[hidden] { display: none !important; }`\n",
              "     so we also need the `!important` here to be able to override the\n",
              "     default hidden behavior on the sphinx rendered scikit-learn.org.\n",
              "     See: https://github.com/scikit-learn/scikit-learn/issues/21755 */\n",
              "  display: inline-block !important;\n",
              "  position: relative;\n",
              "}\n",
              "\n",
              "#sk-container-id-1 div.sk-text-repr-fallback {\n",
              "  display: none;\n",
              "}\n",
              "\n",
              "div.sk-parallel-item,\n",
              "div.sk-serial,\n",
              "div.sk-item {\n",
              "  /* draw centered vertical line to link estimators */\n",
              "  background-image: linear-gradient(var(--sklearn-color-text-on-default-background), var(--sklearn-color-text-on-default-background));\n",
              "  background-size: 2px 100%;\n",
              "  background-repeat: no-repeat;\n",
              "  background-position: center center;\n",
              "}\n",
              "\n",
              "/* Parallel-specific style estimator block */\n",
              "\n",
              "#sk-container-id-1 div.sk-parallel-item::after {\n",
              "  content: \"\";\n",
              "  width: 100%;\n",
              "  border-bottom: 2px solid var(--sklearn-color-text-on-default-background);\n",
              "  flex-grow: 1;\n",
              "}\n",
              "\n",
              "#sk-container-id-1 div.sk-parallel {\n",
              "  display: flex;\n",
              "  align-items: stretch;\n",
              "  justify-content: center;\n",
              "  background-color: var(--sklearn-color-background);\n",
              "  position: relative;\n",
              "}\n",
              "\n",
              "#sk-container-id-1 div.sk-parallel-item {\n",
              "  display: flex;\n",
              "  flex-direction: column;\n",
              "}\n",
              "\n",
              "#sk-container-id-1 div.sk-parallel-item:first-child::after {\n",
              "  align-self: flex-end;\n",
              "  width: 50%;\n",
              "}\n",
              "\n",
              "#sk-container-id-1 div.sk-parallel-item:last-child::after {\n",
              "  align-self: flex-start;\n",
              "  width: 50%;\n",
              "}\n",
              "\n",
              "#sk-container-id-1 div.sk-parallel-item:only-child::after {\n",
              "  width: 0;\n",
              "}\n",
              "\n",
              "/* Serial-specific style estimator block */\n",
              "\n",
              "#sk-container-id-1 div.sk-serial {\n",
              "  display: flex;\n",
              "  flex-direction: column;\n",
              "  align-items: center;\n",
              "  background-color: var(--sklearn-color-background);\n",
              "  padding-right: 1em;\n",
              "  padding-left: 1em;\n",
              "}\n",
              "\n",
              "\n",
              "/* Toggleable style: style used for estimator/Pipeline/ColumnTransformer box that is\n",
              "clickable and can be expanded/collapsed.\n",
              "- Pipeline and ColumnTransformer use this feature and define the default style\n",
              "- Estimators will overwrite some part of the style using the `sk-estimator` class\n",
              "*/\n",
              "\n",
              "/* Pipeline and ColumnTransformer style (default) */\n",
              "\n",
              "#sk-container-id-1 div.sk-toggleable {\n",
              "  /* Default theme specific background. It is overwritten whether we have a\n",
              "  specific estimator or a Pipeline/ColumnTransformer */\n",
              "  background-color: var(--sklearn-color-background);\n",
              "}\n",
              "\n",
              "/* Toggleable label */\n",
              "#sk-container-id-1 label.sk-toggleable__label {\n",
              "  cursor: pointer;\n",
              "  display: block;\n",
              "  width: 100%;\n",
              "  margin-bottom: 0;\n",
              "  padding: 0.5em;\n",
              "  box-sizing: border-box;\n",
              "  text-align: center;\n",
              "}\n",
              "\n",
              "#sk-container-id-1 label.sk-toggleable__label-arrow:before {\n",
              "  /* Arrow on the left of the label */\n",
              "  content: \"▸\";\n",
              "  float: left;\n",
              "  margin-right: 0.25em;\n",
              "  color: var(--sklearn-color-icon);\n",
              "}\n",
              "\n",
              "#sk-container-id-1 label.sk-toggleable__label-arrow:hover:before {\n",
              "  color: var(--sklearn-color-text);\n",
              "}\n",
              "\n",
              "/* Toggleable content - dropdown */\n",
              "\n",
              "#sk-container-id-1 div.sk-toggleable__content {\n",
              "  max-height: 0;\n",
              "  max-width: 0;\n",
              "  overflow: hidden;\n",
              "  text-align: left;\n",
              "  /* unfitted */\n",
              "  background-color: var(--sklearn-color-unfitted-level-0);\n",
              "}\n",
              "\n",
              "#sk-container-id-1 div.sk-toggleable__content.fitted {\n",
              "  /* fitted */\n",
              "  background-color: var(--sklearn-color-fitted-level-0);\n",
              "}\n",
              "\n",
              "#sk-container-id-1 div.sk-toggleable__content pre {\n",
              "  margin: 0.2em;\n",
              "  border-radius: 0.25em;\n",
              "  color: var(--sklearn-color-text);\n",
              "  /* unfitted */\n",
              "  background-color: var(--sklearn-color-unfitted-level-0);\n",
              "}\n",
              "\n",
              "#sk-container-id-1 div.sk-toggleable__content.fitted pre {\n",
              "  /* unfitted */\n",
              "  background-color: var(--sklearn-color-fitted-level-0);\n",
              "}\n",
              "\n",
              "#sk-container-id-1 input.sk-toggleable__control:checked~div.sk-toggleable__content {\n",
              "  /* Expand drop-down */\n",
              "  max-height: 200px;\n",
              "  max-width: 100%;\n",
              "  overflow: auto;\n",
              "}\n",
              "\n",
              "#sk-container-id-1 input.sk-toggleable__control:checked~label.sk-toggleable__label-arrow:before {\n",
              "  content: \"▾\";\n",
              "}\n",
              "\n",
              "/* Pipeline/ColumnTransformer-specific style */\n",
              "\n",
              "#sk-container-id-1 div.sk-label input.sk-toggleable__control:checked~label.sk-toggleable__label {\n",
              "  color: var(--sklearn-color-text);\n",
              "  background-color: var(--sklearn-color-unfitted-level-2);\n",
              "}\n",
              "\n",
              "#sk-container-id-1 div.sk-label.fitted input.sk-toggleable__control:checked~label.sk-toggleable__label {\n",
              "  background-color: var(--sklearn-color-fitted-level-2);\n",
              "}\n",
              "\n",
              "/* Estimator-specific style */\n",
              "\n",
              "/* Colorize estimator box */\n",
              "#sk-container-id-1 div.sk-estimator input.sk-toggleable__control:checked~label.sk-toggleable__label {\n",
              "  /* unfitted */\n",
              "  background-color: var(--sklearn-color-unfitted-level-2);\n",
              "}\n",
              "\n",
              "#sk-container-id-1 div.sk-estimator.fitted input.sk-toggleable__control:checked~label.sk-toggleable__label {\n",
              "  /* fitted */\n",
              "  background-color: var(--sklearn-color-fitted-level-2);\n",
              "}\n",
              "\n",
              "#sk-container-id-1 div.sk-label label.sk-toggleable__label,\n",
              "#sk-container-id-1 div.sk-label label {\n",
              "  /* The background is the default theme color */\n",
              "  color: var(--sklearn-color-text-on-default-background);\n",
              "}\n",
              "\n",
              "/* On hover, darken the color of the background */\n",
              "#sk-container-id-1 div.sk-label:hover label.sk-toggleable__label {\n",
              "  color: var(--sklearn-color-text);\n",
              "  background-color: var(--sklearn-color-unfitted-level-2);\n",
              "}\n",
              "\n",
              "/* Label box, darken color on hover, fitted */\n",
              "#sk-container-id-1 div.sk-label.fitted:hover label.sk-toggleable__label.fitted {\n",
              "  color: var(--sklearn-color-text);\n",
              "  background-color: var(--sklearn-color-fitted-level-2);\n",
              "}\n",
              "\n",
              "/* Estimator label */\n",
              "\n",
              "#sk-container-id-1 div.sk-label label {\n",
              "  font-family: monospace;\n",
              "  font-weight: bold;\n",
              "  display: inline-block;\n",
              "  line-height: 1.2em;\n",
              "}\n",
              "\n",
              "#sk-container-id-1 div.sk-label-container {\n",
              "  text-align: center;\n",
              "}\n",
              "\n",
              "/* Estimator-specific */\n",
              "#sk-container-id-1 div.sk-estimator {\n",
              "  font-family: monospace;\n",
              "  border: 1px dotted var(--sklearn-color-border-box);\n",
              "  border-radius: 0.25em;\n",
              "  box-sizing: border-box;\n",
              "  margin-bottom: 0.5em;\n",
              "  /* unfitted */\n",
              "  background-color: var(--sklearn-color-unfitted-level-0);\n",
              "}\n",
              "\n",
              "#sk-container-id-1 div.sk-estimator.fitted {\n",
              "  /* fitted */\n",
              "  background-color: var(--sklearn-color-fitted-level-0);\n",
              "}\n",
              "\n",
              "/* on hover */\n",
              "#sk-container-id-1 div.sk-estimator:hover {\n",
              "  /* unfitted */\n",
              "  background-color: var(--sklearn-color-unfitted-level-2);\n",
              "}\n",
              "\n",
              "#sk-container-id-1 div.sk-estimator.fitted:hover {\n",
              "  /* fitted */\n",
              "  background-color: var(--sklearn-color-fitted-level-2);\n",
              "}\n",
              "\n",
              "/* Specification for estimator info (e.g. \"i\" and \"?\") */\n",
              "\n",
              "/* Common style for \"i\" and \"?\" */\n",
              "\n",
              ".sk-estimator-doc-link,\n",
              "a:link.sk-estimator-doc-link,\n",
              "a:visited.sk-estimator-doc-link {\n",
              "  float: right;\n",
              "  font-size: smaller;\n",
              "  line-height: 1em;\n",
              "  font-family: monospace;\n",
              "  background-color: var(--sklearn-color-background);\n",
              "  border-radius: 1em;\n",
              "  height: 1em;\n",
              "  width: 1em;\n",
              "  text-decoration: none !important;\n",
              "  margin-left: 1ex;\n",
              "  /* unfitted */\n",
              "  border: var(--sklearn-color-unfitted-level-1) 1pt solid;\n",
              "  color: var(--sklearn-color-unfitted-level-1);\n",
              "}\n",
              "\n",
              ".sk-estimator-doc-link.fitted,\n",
              "a:link.sk-estimator-doc-link.fitted,\n",
              "a:visited.sk-estimator-doc-link.fitted {\n",
              "  /* fitted */\n",
              "  border: var(--sklearn-color-fitted-level-1) 1pt solid;\n",
              "  color: var(--sklearn-color-fitted-level-1);\n",
              "}\n",
              "\n",
              "/* On hover */\n",
              "div.sk-estimator:hover .sk-estimator-doc-link:hover,\n",
              ".sk-estimator-doc-link:hover,\n",
              "div.sk-label-container:hover .sk-estimator-doc-link:hover,\n",
              ".sk-estimator-doc-link:hover {\n",
              "  /* unfitted */\n",
              "  background-color: var(--sklearn-color-unfitted-level-3);\n",
              "  color: var(--sklearn-color-background);\n",
              "  text-decoration: none;\n",
              "}\n",
              "\n",
              "div.sk-estimator.fitted:hover .sk-estimator-doc-link.fitted:hover,\n",
              ".sk-estimator-doc-link.fitted:hover,\n",
              "div.sk-label-container:hover .sk-estimator-doc-link.fitted:hover,\n",
              ".sk-estimator-doc-link.fitted:hover {\n",
              "  /* fitted */\n",
              "  background-color: var(--sklearn-color-fitted-level-3);\n",
              "  color: var(--sklearn-color-background);\n",
              "  text-decoration: none;\n",
              "}\n",
              "\n",
              "/* Span, style for the box shown on hovering the info icon */\n",
              ".sk-estimator-doc-link span {\n",
              "  display: none;\n",
              "  z-index: 9999;\n",
              "  position: relative;\n",
              "  font-weight: normal;\n",
              "  right: .2ex;\n",
              "  padding: .5ex;\n",
              "  margin: .5ex;\n",
              "  width: min-content;\n",
              "  min-width: 20ex;\n",
              "  max-width: 50ex;\n",
              "  color: var(--sklearn-color-text);\n",
              "  box-shadow: 2pt 2pt 4pt #999;\n",
              "  /* unfitted */\n",
              "  background: var(--sklearn-color-unfitted-level-0);\n",
              "  border: .5pt solid var(--sklearn-color-unfitted-level-3);\n",
              "}\n",
              "\n",
              ".sk-estimator-doc-link.fitted span {\n",
              "  /* fitted */\n",
              "  background: var(--sklearn-color-fitted-level-0);\n",
              "  border: var(--sklearn-color-fitted-level-3);\n",
              "}\n",
              "\n",
              ".sk-estimator-doc-link:hover span {\n",
              "  display: block;\n",
              "}\n",
              "\n",
              "/* \"?\"-specific style due to the `<a>` HTML tag */\n",
              "\n",
              "#sk-container-id-1 a.estimator_doc_link {\n",
              "  float: right;\n",
              "  font-size: 1rem;\n",
              "  line-height: 1em;\n",
              "  font-family: monospace;\n",
              "  background-color: var(--sklearn-color-background);\n",
              "  border-radius: 1rem;\n",
              "  height: 1rem;\n",
              "  width: 1rem;\n",
              "  text-decoration: none;\n",
              "  /* unfitted */\n",
              "  color: var(--sklearn-color-unfitted-level-1);\n",
              "  border: var(--sklearn-color-unfitted-level-1) 1pt solid;\n",
              "}\n",
              "\n",
              "#sk-container-id-1 a.estimator_doc_link.fitted {\n",
              "  /* fitted */\n",
              "  border: var(--sklearn-color-fitted-level-1) 1pt solid;\n",
              "  color: var(--sklearn-color-fitted-level-1);\n",
              "}\n",
              "\n",
              "/* On hover */\n",
              "#sk-container-id-1 a.estimator_doc_link:hover {\n",
              "  /* unfitted */\n",
              "  background-color: var(--sklearn-color-unfitted-level-3);\n",
              "  color: var(--sklearn-color-background);\n",
              "  text-decoration: none;\n",
              "}\n",
              "\n",
              "#sk-container-id-1 a.estimator_doc_link.fitted:hover {\n",
              "  /* fitted */\n",
              "  background-color: var(--sklearn-color-fitted-level-3);\n",
              "}\n",
              "</style><div id=\"sk-container-id-1\" class=\"sk-top-container\"><div class=\"sk-text-repr-fallback\"><pre>GaussianNB()</pre><b>In a Jupyter environment, please rerun this cell to show the HTML representation or trust the notebook. <br />On GitHub, the HTML representation is unable to render, please try loading this page with nbviewer.org.</b></div><div class=\"sk-container\" hidden><div class=\"sk-item\"><div class=\"sk-estimator fitted sk-toggleable\"><input class=\"sk-toggleable__control sk-hidden--visually\" id=\"sk-estimator-id-1\" type=\"checkbox\" checked><label for=\"sk-estimator-id-1\" class=\"sk-toggleable__label fitted sk-toggleable__label-arrow fitted\">&nbsp;&nbsp;GaussianNB<a class=\"sk-estimator-doc-link fitted\" rel=\"noreferrer\" target=\"_blank\" href=\"https://scikit-learn.org/1.5/modules/generated/sklearn.naive_bayes.GaussianNB.html\">?<span>Documentation for GaussianNB</span></a><span class=\"sk-estimator-doc-link fitted\">i<span>Fitted</span></span></label><div class=\"sk-toggleable__content fitted\"><pre>GaussianNB()</pre></div> </div></div></div></div>"
            ],
            "text/plain": [
              "GaussianNB()"
            ]
          },
          "execution_count": 43,
          "metadata": {},
          "output_type": "execute_result"
        }
      ],
      "source": [
        "nb_clf.fit(X_train, Y_train)"
      ]
    },
    {
      "cell_type": "code",
      "execution_count": null,
      "metadata": {
        "id": "ZEU0xvtRFG3m"
      },
      "outputs": [],
      "source": [
        "nb_y_pred = nb_clf.predict(X_test)"
      ]
    },
    {
      "cell_type": "code",
      "execution_count": null,
      "metadata": {
        "colab": {
          "base_uri": "https://localhost:8080/"
        },
        "id": "MPkQ9hL2FJs2",
        "outputId": "86c60286-3b06-4692-9333-87ba1dbcbbd5"
      },
      "outputs": [
        {
          "name": "stdout",
          "output_type": "stream",
          "text": [
            "Naive Bayes Accuracy: 0.6218825422365245\n"
          ]
        }
      ],
      "source": [
        "nb_accuracy = accuracy_score(Y_test, nb_y_pred)\n",
        "print(\"Naive Bayes Accuracy:\", nb_accuracy)"
      ]
    },
    {
      "cell_type": "code",
      "execution_count": null,
      "metadata": {
        "colab": {
          "base_uri": "https://localhost:8080/"
        },
        "id": "ygbidxLCFMxA",
        "outputId": "5e8e6dab-add7-4428-8d9d-a25bd839b80b"
      },
      "outputs": [
        {
          "name": "stdout",
          "output_type": "stream",
          "text": [
            "[1 0 1 ... 0 0 0]\n"
          ]
        }
      ],
      "source": [
        "print(nb_y_pred)"
      ]
    },
    {
      "cell_type": "code",
      "execution_count": null,
      "metadata": {
        "colab": {
          "base_uri": "https://localhost:8080/"
        },
        "id": "w7FuLw6RFTPi",
        "outputId": "c442daa1-ff53-4072-84ed-11e63d54acc7"
      },
      "outputs": [
        {
          "name": "stdout",
          "output_type": "stream",
          "text": [
            "      Hasil Sebenarnya  Hasil Prediksi\n",
            "0                    1               1\n",
            "1                    0               0\n",
            "2                    1               1\n",
            "3                    1               0\n",
            "4                    1               1\n",
            "...                ...             ...\n",
            "1238                 1               0\n",
            "1239                 1               0\n",
            "1240                 0               0\n",
            "1241                 1               0\n",
            "1242                 0               0\n",
            "\n",
            "[1243 rows x 2 columns]\n"
          ]
        }
      ],
      "source": [
        "# Buat DataFrame untuk membandingkan hasil prediksi dengan hasil sebenarnya\n",
        "comparison_df = pd.DataFrame({\n",
        "    'Hasil Sebenarnya': Y_test,\n",
        "    'Hasil Prediksi': nb_y_pred,\n",
        "})\n",
        "\n",
        "# Tampilkan beberapa baris pertama dari DataFrame untuk melihat perbandingan\n",
        "print(comparison_df)"
      ]
    },
    {
      "cell_type": "markdown",
      "metadata": {
        "id": "4w-3Pc1lFX1W"
      },
      "source": [
        "# Kombinasi Metode Naive Bayes dan K-Nearest Neighbors"
      ]
    },
    {
      "cell_type": "code",
      "execution_count": null,
      "metadata": {
        "id": "FGrfgaAAFf6b"
      },
      "outputs": [],
      "source": [
        "knn_clf = KNeighborsClassifier(n_neighbors=5)"
      ]
    },
    {
      "cell_type": "code",
      "execution_count": null,
      "metadata": {
        "colab": {
          "base_uri": "https://localhost:8080/",
          "height": 80
        },
        "id": "QpwXkP0mFjCo",
        "outputId": "82227d76-2439-45ae-e7a7-d1a7e5ebad6f"
      },
      "outputs": [
        {
          "data": {
            "text/html": [
              "<style>#sk-container-id-2 {\n",
              "  /* Definition of color scheme common for light and dark mode */\n",
              "  --sklearn-color-text: black;\n",
              "  --sklearn-color-line: gray;\n",
              "  /* Definition of color scheme for unfitted estimators */\n",
              "  --sklearn-color-unfitted-level-0: #fff5e6;\n",
              "  --sklearn-color-unfitted-level-1: #f6e4d2;\n",
              "  --sklearn-color-unfitted-level-2: #ffe0b3;\n",
              "  --sklearn-color-unfitted-level-3: chocolate;\n",
              "  /* Definition of color scheme for fitted estimators */\n",
              "  --sklearn-color-fitted-level-0: #f0f8ff;\n",
              "  --sklearn-color-fitted-level-1: #d4ebff;\n",
              "  --sklearn-color-fitted-level-2: #b3dbfd;\n",
              "  --sklearn-color-fitted-level-3: cornflowerblue;\n",
              "\n",
              "  /* Specific color for light theme */\n",
              "  --sklearn-color-text-on-default-background: var(--sg-text-color, var(--theme-code-foreground, var(--jp-content-font-color1, black)));\n",
              "  --sklearn-color-background: var(--sg-background-color, var(--theme-background, var(--jp-layout-color0, white)));\n",
              "  --sklearn-color-border-box: var(--sg-text-color, var(--theme-code-foreground, var(--jp-content-font-color1, black)));\n",
              "  --sklearn-color-icon: #696969;\n",
              "\n",
              "  @media (prefers-color-scheme: dark) {\n",
              "    /* Redefinition of color scheme for dark theme */\n",
              "    --sklearn-color-text-on-default-background: var(--sg-text-color, var(--theme-code-foreground, var(--jp-content-font-color1, white)));\n",
              "    --sklearn-color-background: var(--sg-background-color, var(--theme-background, var(--jp-layout-color0, #111)));\n",
              "    --sklearn-color-border-box: var(--sg-text-color, var(--theme-code-foreground, var(--jp-content-font-color1, white)));\n",
              "    --sklearn-color-icon: #878787;\n",
              "  }\n",
              "}\n",
              "\n",
              "#sk-container-id-2 {\n",
              "  color: var(--sklearn-color-text);\n",
              "}\n",
              "\n",
              "#sk-container-id-2 pre {\n",
              "  padding: 0;\n",
              "}\n",
              "\n",
              "#sk-container-id-2 input.sk-hidden--visually {\n",
              "  border: 0;\n",
              "  clip: rect(1px 1px 1px 1px);\n",
              "  clip: rect(1px, 1px, 1px, 1px);\n",
              "  height: 1px;\n",
              "  margin: -1px;\n",
              "  overflow: hidden;\n",
              "  padding: 0;\n",
              "  position: absolute;\n",
              "  width: 1px;\n",
              "}\n",
              "\n",
              "#sk-container-id-2 div.sk-dashed-wrapped {\n",
              "  border: 1px dashed var(--sklearn-color-line);\n",
              "  margin: 0 0.4em 0.5em 0.4em;\n",
              "  box-sizing: border-box;\n",
              "  padding-bottom: 0.4em;\n",
              "  background-color: var(--sklearn-color-background);\n",
              "}\n",
              "\n",
              "#sk-container-id-2 div.sk-container {\n",
              "  /* jupyter's `normalize.less` sets `[hidden] { display: none; }`\n",
              "     but bootstrap.min.css set `[hidden] { display: none !important; }`\n",
              "     so we also need the `!important` here to be able to override the\n",
              "     default hidden behavior on the sphinx rendered scikit-learn.org.\n",
              "     See: https://github.com/scikit-learn/scikit-learn/issues/21755 */\n",
              "  display: inline-block !important;\n",
              "  position: relative;\n",
              "}\n",
              "\n",
              "#sk-container-id-2 div.sk-text-repr-fallback {\n",
              "  display: none;\n",
              "}\n",
              "\n",
              "div.sk-parallel-item,\n",
              "div.sk-serial,\n",
              "div.sk-item {\n",
              "  /* draw centered vertical line to link estimators */\n",
              "  background-image: linear-gradient(var(--sklearn-color-text-on-default-background), var(--sklearn-color-text-on-default-background));\n",
              "  background-size: 2px 100%;\n",
              "  background-repeat: no-repeat;\n",
              "  background-position: center center;\n",
              "}\n",
              "\n",
              "/* Parallel-specific style estimator block */\n",
              "\n",
              "#sk-container-id-2 div.sk-parallel-item::after {\n",
              "  content: \"\";\n",
              "  width: 100%;\n",
              "  border-bottom: 2px solid var(--sklearn-color-text-on-default-background);\n",
              "  flex-grow: 1;\n",
              "}\n",
              "\n",
              "#sk-container-id-2 div.sk-parallel {\n",
              "  display: flex;\n",
              "  align-items: stretch;\n",
              "  justify-content: center;\n",
              "  background-color: var(--sklearn-color-background);\n",
              "  position: relative;\n",
              "}\n",
              "\n",
              "#sk-container-id-2 div.sk-parallel-item {\n",
              "  display: flex;\n",
              "  flex-direction: column;\n",
              "}\n",
              "\n",
              "#sk-container-id-2 div.sk-parallel-item:first-child::after {\n",
              "  align-self: flex-end;\n",
              "  width: 50%;\n",
              "}\n",
              "\n",
              "#sk-container-id-2 div.sk-parallel-item:last-child::after {\n",
              "  align-self: flex-start;\n",
              "  width: 50%;\n",
              "}\n",
              "\n",
              "#sk-container-id-2 div.sk-parallel-item:only-child::after {\n",
              "  width: 0;\n",
              "}\n",
              "\n",
              "/* Serial-specific style estimator block */\n",
              "\n",
              "#sk-container-id-2 div.sk-serial {\n",
              "  display: flex;\n",
              "  flex-direction: column;\n",
              "  align-items: center;\n",
              "  background-color: var(--sklearn-color-background);\n",
              "  padding-right: 1em;\n",
              "  padding-left: 1em;\n",
              "}\n",
              "\n",
              "\n",
              "/* Toggleable style: style used for estimator/Pipeline/ColumnTransformer box that is\n",
              "clickable and can be expanded/collapsed.\n",
              "- Pipeline and ColumnTransformer use this feature and define the default style\n",
              "- Estimators will overwrite some part of the style using the `sk-estimator` class\n",
              "*/\n",
              "\n",
              "/* Pipeline and ColumnTransformer style (default) */\n",
              "\n",
              "#sk-container-id-2 div.sk-toggleable {\n",
              "  /* Default theme specific background. It is overwritten whether we have a\n",
              "  specific estimator or a Pipeline/ColumnTransformer */\n",
              "  background-color: var(--sklearn-color-background);\n",
              "}\n",
              "\n",
              "/* Toggleable label */\n",
              "#sk-container-id-2 label.sk-toggleable__label {\n",
              "  cursor: pointer;\n",
              "  display: block;\n",
              "  width: 100%;\n",
              "  margin-bottom: 0;\n",
              "  padding: 0.5em;\n",
              "  box-sizing: border-box;\n",
              "  text-align: center;\n",
              "}\n",
              "\n",
              "#sk-container-id-2 label.sk-toggleable__label-arrow:before {\n",
              "  /* Arrow on the left of the label */\n",
              "  content: \"▸\";\n",
              "  float: left;\n",
              "  margin-right: 0.25em;\n",
              "  color: var(--sklearn-color-icon);\n",
              "}\n",
              "\n",
              "#sk-container-id-2 label.sk-toggleable__label-arrow:hover:before {\n",
              "  color: var(--sklearn-color-text);\n",
              "}\n",
              "\n",
              "/* Toggleable content - dropdown */\n",
              "\n",
              "#sk-container-id-2 div.sk-toggleable__content {\n",
              "  max-height: 0;\n",
              "  max-width: 0;\n",
              "  overflow: hidden;\n",
              "  text-align: left;\n",
              "  /* unfitted */\n",
              "  background-color: var(--sklearn-color-unfitted-level-0);\n",
              "}\n",
              "\n",
              "#sk-container-id-2 div.sk-toggleable__content.fitted {\n",
              "  /* fitted */\n",
              "  background-color: var(--sklearn-color-fitted-level-0);\n",
              "}\n",
              "\n",
              "#sk-container-id-2 div.sk-toggleable__content pre {\n",
              "  margin: 0.2em;\n",
              "  border-radius: 0.25em;\n",
              "  color: var(--sklearn-color-text);\n",
              "  /* unfitted */\n",
              "  background-color: var(--sklearn-color-unfitted-level-0);\n",
              "}\n",
              "\n",
              "#sk-container-id-2 div.sk-toggleable__content.fitted pre {\n",
              "  /* unfitted */\n",
              "  background-color: var(--sklearn-color-fitted-level-0);\n",
              "}\n",
              "\n",
              "#sk-container-id-2 input.sk-toggleable__control:checked~div.sk-toggleable__content {\n",
              "  /* Expand drop-down */\n",
              "  max-height: 200px;\n",
              "  max-width: 100%;\n",
              "  overflow: auto;\n",
              "}\n",
              "\n",
              "#sk-container-id-2 input.sk-toggleable__control:checked~label.sk-toggleable__label-arrow:before {\n",
              "  content: \"▾\";\n",
              "}\n",
              "\n",
              "/* Pipeline/ColumnTransformer-specific style */\n",
              "\n",
              "#sk-container-id-2 div.sk-label input.sk-toggleable__control:checked~label.sk-toggleable__label {\n",
              "  color: var(--sklearn-color-text);\n",
              "  background-color: var(--sklearn-color-unfitted-level-2);\n",
              "}\n",
              "\n",
              "#sk-container-id-2 div.sk-label.fitted input.sk-toggleable__control:checked~label.sk-toggleable__label {\n",
              "  background-color: var(--sklearn-color-fitted-level-2);\n",
              "}\n",
              "\n",
              "/* Estimator-specific style */\n",
              "\n",
              "/* Colorize estimator box */\n",
              "#sk-container-id-2 div.sk-estimator input.sk-toggleable__control:checked~label.sk-toggleable__label {\n",
              "  /* unfitted */\n",
              "  background-color: var(--sklearn-color-unfitted-level-2);\n",
              "}\n",
              "\n",
              "#sk-container-id-2 div.sk-estimator.fitted input.sk-toggleable__control:checked~label.sk-toggleable__label {\n",
              "  /* fitted */\n",
              "  background-color: var(--sklearn-color-fitted-level-2);\n",
              "}\n",
              "\n",
              "#sk-container-id-2 div.sk-label label.sk-toggleable__label,\n",
              "#sk-container-id-2 div.sk-label label {\n",
              "  /* The background is the default theme color */\n",
              "  color: var(--sklearn-color-text-on-default-background);\n",
              "}\n",
              "\n",
              "/* On hover, darken the color of the background */\n",
              "#sk-container-id-2 div.sk-label:hover label.sk-toggleable__label {\n",
              "  color: var(--sklearn-color-text);\n",
              "  background-color: var(--sklearn-color-unfitted-level-2);\n",
              "}\n",
              "\n",
              "/* Label box, darken color on hover, fitted */\n",
              "#sk-container-id-2 div.sk-label.fitted:hover label.sk-toggleable__label.fitted {\n",
              "  color: var(--sklearn-color-text);\n",
              "  background-color: var(--sklearn-color-fitted-level-2);\n",
              "}\n",
              "\n",
              "/* Estimator label */\n",
              "\n",
              "#sk-container-id-2 div.sk-label label {\n",
              "  font-family: monospace;\n",
              "  font-weight: bold;\n",
              "  display: inline-block;\n",
              "  line-height: 1.2em;\n",
              "}\n",
              "\n",
              "#sk-container-id-2 div.sk-label-container {\n",
              "  text-align: center;\n",
              "}\n",
              "\n",
              "/* Estimator-specific */\n",
              "#sk-container-id-2 div.sk-estimator {\n",
              "  font-family: monospace;\n",
              "  border: 1px dotted var(--sklearn-color-border-box);\n",
              "  border-radius: 0.25em;\n",
              "  box-sizing: border-box;\n",
              "  margin-bottom: 0.5em;\n",
              "  /* unfitted */\n",
              "  background-color: var(--sklearn-color-unfitted-level-0);\n",
              "}\n",
              "\n",
              "#sk-container-id-2 div.sk-estimator.fitted {\n",
              "  /* fitted */\n",
              "  background-color: var(--sklearn-color-fitted-level-0);\n",
              "}\n",
              "\n",
              "/* on hover */\n",
              "#sk-container-id-2 div.sk-estimator:hover {\n",
              "  /* unfitted */\n",
              "  background-color: var(--sklearn-color-unfitted-level-2);\n",
              "}\n",
              "\n",
              "#sk-container-id-2 div.sk-estimator.fitted:hover {\n",
              "  /* fitted */\n",
              "  background-color: var(--sklearn-color-fitted-level-2);\n",
              "}\n",
              "\n",
              "/* Specification for estimator info (e.g. \"i\" and \"?\") */\n",
              "\n",
              "/* Common style for \"i\" and \"?\" */\n",
              "\n",
              ".sk-estimator-doc-link,\n",
              "a:link.sk-estimator-doc-link,\n",
              "a:visited.sk-estimator-doc-link {\n",
              "  float: right;\n",
              "  font-size: smaller;\n",
              "  line-height: 1em;\n",
              "  font-family: monospace;\n",
              "  background-color: var(--sklearn-color-background);\n",
              "  border-radius: 1em;\n",
              "  height: 1em;\n",
              "  width: 1em;\n",
              "  text-decoration: none !important;\n",
              "  margin-left: 1ex;\n",
              "  /* unfitted */\n",
              "  border: var(--sklearn-color-unfitted-level-1) 1pt solid;\n",
              "  color: var(--sklearn-color-unfitted-level-1);\n",
              "}\n",
              "\n",
              ".sk-estimator-doc-link.fitted,\n",
              "a:link.sk-estimator-doc-link.fitted,\n",
              "a:visited.sk-estimator-doc-link.fitted {\n",
              "  /* fitted */\n",
              "  border: var(--sklearn-color-fitted-level-1) 1pt solid;\n",
              "  color: var(--sklearn-color-fitted-level-1);\n",
              "}\n",
              "\n",
              "/* On hover */\n",
              "div.sk-estimator:hover .sk-estimator-doc-link:hover,\n",
              ".sk-estimator-doc-link:hover,\n",
              "div.sk-label-container:hover .sk-estimator-doc-link:hover,\n",
              ".sk-estimator-doc-link:hover {\n",
              "  /* unfitted */\n",
              "  background-color: var(--sklearn-color-unfitted-level-3);\n",
              "  color: var(--sklearn-color-background);\n",
              "  text-decoration: none;\n",
              "}\n",
              "\n",
              "div.sk-estimator.fitted:hover .sk-estimator-doc-link.fitted:hover,\n",
              ".sk-estimator-doc-link.fitted:hover,\n",
              "div.sk-label-container:hover .sk-estimator-doc-link.fitted:hover,\n",
              ".sk-estimator-doc-link.fitted:hover {\n",
              "  /* fitted */\n",
              "  background-color: var(--sklearn-color-fitted-level-3);\n",
              "  color: var(--sklearn-color-background);\n",
              "  text-decoration: none;\n",
              "}\n",
              "\n",
              "/* Span, style for the box shown on hovering the info icon */\n",
              ".sk-estimator-doc-link span {\n",
              "  display: none;\n",
              "  z-index: 9999;\n",
              "  position: relative;\n",
              "  font-weight: normal;\n",
              "  right: .2ex;\n",
              "  padding: .5ex;\n",
              "  margin: .5ex;\n",
              "  width: min-content;\n",
              "  min-width: 20ex;\n",
              "  max-width: 50ex;\n",
              "  color: var(--sklearn-color-text);\n",
              "  box-shadow: 2pt 2pt 4pt #999;\n",
              "  /* unfitted */\n",
              "  background: var(--sklearn-color-unfitted-level-0);\n",
              "  border: .5pt solid var(--sklearn-color-unfitted-level-3);\n",
              "}\n",
              "\n",
              ".sk-estimator-doc-link.fitted span {\n",
              "  /* fitted */\n",
              "  background: var(--sklearn-color-fitted-level-0);\n",
              "  border: var(--sklearn-color-fitted-level-3);\n",
              "}\n",
              "\n",
              ".sk-estimator-doc-link:hover span {\n",
              "  display: block;\n",
              "}\n",
              "\n",
              "/* \"?\"-specific style due to the `<a>` HTML tag */\n",
              "\n",
              "#sk-container-id-2 a.estimator_doc_link {\n",
              "  float: right;\n",
              "  font-size: 1rem;\n",
              "  line-height: 1em;\n",
              "  font-family: monospace;\n",
              "  background-color: var(--sklearn-color-background);\n",
              "  border-radius: 1rem;\n",
              "  height: 1rem;\n",
              "  width: 1rem;\n",
              "  text-decoration: none;\n",
              "  /* unfitted */\n",
              "  color: var(--sklearn-color-unfitted-level-1);\n",
              "  border: var(--sklearn-color-unfitted-level-1) 1pt solid;\n",
              "}\n",
              "\n",
              "#sk-container-id-2 a.estimator_doc_link.fitted {\n",
              "  /* fitted */\n",
              "  border: var(--sklearn-color-fitted-level-1) 1pt solid;\n",
              "  color: var(--sklearn-color-fitted-level-1);\n",
              "}\n",
              "\n",
              "/* On hover */\n",
              "#sk-container-id-2 a.estimator_doc_link:hover {\n",
              "  /* unfitted */\n",
              "  background-color: var(--sklearn-color-unfitted-level-3);\n",
              "  color: var(--sklearn-color-background);\n",
              "  text-decoration: none;\n",
              "}\n",
              "\n",
              "#sk-container-id-2 a.estimator_doc_link.fitted:hover {\n",
              "  /* fitted */\n",
              "  background-color: var(--sklearn-color-fitted-level-3);\n",
              "}\n",
              "</style><div id=\"sk-container-id-2\" class=\"sk-top-container\"><div class=\"sk-text-repr-fallback\"><pre>KNeighborsClassifier()</pre><b>In a Jupyter environment, please rerun this cell to show the HTML representation or trust the notebook. <br />On GitHub, the HTML representation is unable to render, please try loading this page with nbviewer.org.</b></div><div class=\"sk-container\" hidden><div class=\"sk-item\"><div class=\"sk-estimator fitted sk-toggleable\"><input class=\"sk-toggleable__control sk-hidden--visually\" id=\"sk-estimator-id-2\" type=\"checkbox\" checked><label for=\"sk-estimator-id-2\" class=\"sk-toggleable__label fitted sk-toggleable__label-arrow fitted\">&nbsp;&nbsp;KNeighborsClassifier<a class=\"sk-estimator-doc-link fitted\" rel=\"noreferrer\" target=\"_blank\" href=\"https://scikit-learn.org/1.5/modules/generated/sklearn.neighbors.KNeighborsClassifier.html\">?<span>Documentation for KNeighborsClassifier</span></a><span class=\"sk-estimator-doc-link fitted\">i<span>Fitted</span></span></label><div class=\"sk-toggleable__content fitted\"><pre>KNeighborsClassifier()</pre></div> </div></div></div></div>"
            ],
            "text/plain": [
              "KNeighborsClassifier()"
            ]
          },
          "execution_count": 49,
          "metadata": {},
          "output_type": "execute_result"
        }
      ],
      "source": [
        "knn_clf.fit(X_train, Y_train)"
      ]
    },
    {
      "cell_type": "code",
      "execution_count": null,
      "metadata": {
        "id": "XPPBDQE-FmAj"
      },
      "outputs": [],
      "source": [
        "knn_y_pred = knn_clf.predict(X_test)\n",
        "nb_y_pred = nb_clf.predict(X_test)"
      ]
    },
    {
      "cell_type": "code",
      "execution_count": null,
      "metadata": {
        "id": "QsyknAt1FojM"
      },
      "outputs": [],
      "source": [
        "combined_y_pred = []\n",
        "\n",
        "for knn_pred, nb_pred in zip(knn_y_pred, nb_y_pred):\n",
        "    # Jika salah satu prediksi nol, gunakan prediksi dari model lainnya\n",
        "    if knn_pred == 0:\n",
        "        combined_y_pred.append(int(nb_pred))\n",
        "    elif nb_pred == 0:\n",
        "        combined_y_pred.append(int(knn_pred))\n",
        "    else:\n",
        "        # Jika kedua prediksi tidak nol, gunakan rata-rata dari keduanya\n",
        "        combined_y_pred.append(int((knn_pred + nb_pred) / 2))"
      ]
    },
    {
      "cell_type": "code",
      "execution_count": null,
      "metadata": {
        "colab": {
          "base_uri": "https://localhost:8080/"
        },
        "id": "QqoZoGk6FrWO",
        "outputId": "1b1398ff-6862-4eb7-9518-3c9736a8860d"
      },
      "outputs": [
        {
          "name": "stdout",
          "output_type": "stream",
          "text": [
            "Combined Accuracy: 0.9919549477071601\n"
          ]
        }
      ],
      "source": [
        "combined_accuracy = accuracy_score(Y_test, combined_y_pred)\n",
        "\n",
        "print(\"Combined Accuracy:\", combined_accuracy)"
      ]
    },
    {
      "cell_type": "code",
      "execution_count": null,
      "metadata": {
        "colab": {
          "base_uri": "https://localhost:8080/"
        },
        "id": "Nb3LWkN3FuQ_",
        "outputId": "65dab08e-e932-47bc-9dc2-175064ea6f9d"
      },
      "outputs": [
        {
          "name": "stdout",
          "output_type": "stream",
          "text": [
            "      Hasil Sebenarnya  Hasil Prediksi\n",
            "0                    1               1\n",
            "1                    0               0\n",
            "2                    1               1\n",
            "3                    1               1\n",
            "4                    1               1\n",
            "...                ...             ...\n",
            "1238                 1               1\n",
            "1239                 1               1\n",
            "1240                 0               0\n",
            "1241                 1               1\n",
            "1242                 0               0\n",
            "\n",
            "[1243 rows x 2 columns]\n"
          ]
        }
      ],
      "source": [
        "# Buat DataFrame untuk membandingkan hasil prediksi dengan hasil sebenarnya\n",
        "comparison_df = pd.DataFrame({\n",
        "    'Hasil Sebenarnya': Y_test,\n",
        "    'Hasil Prediksi': combined_y_pred,\n",
        "})\n",
        "\n",
        "# Tampilkan beberapa baris pertama dari DataFrame untuk melihat perbandingan\n",
        "print(comparison_df)"
      ]
    },
    {
      "cell_type": "code",
      "execution_count": null,
      "metadata": {
        "colab": {
          "base_uri": "https://localhost:8080/"
        },
        "id": "UMsMQABtFxRS",
        "outputId": "1ce2c059-3dea-48e9-9008-4baa1ddb977c"
      },
      "outputs": [
        {
          "name": "stdout",
          "output_type": "stream",
          "text": [
            "Precision: 0.9985935302390999\n",
            "Recall: 0.9874826147426982\n",
            "Z-score: 469.0537684275278\n"
          ]
        }
      ],
      "source": [
        "precision = precision_score(Y_test, combined_y_pred)\n",
        "\n",
        "recall = recall_score(Y_test, combined_y_pred)\n",
        "\n",
        "conf_matrix = confusion_matrix(Y_test, combined_y_pred)\n",
        "\n",
        "TP = conf_matrix[1, 1]\n",
        "TN = conf_matrix[0, 0]\n",
        "FP = conf_matrix[0, 1]\n",
        "FN = conf_matrix[1, 0]\n",
        "\n",
        "z_score = (precision - 0.5) / ((precision * (1 - precision) / len(Y_test)) ** 0.5)\n",
        "\n",
        "print(\"Precision:\", precision)\n",
        "print(\"Recall:\", recall)\n",
        "print(\"Z-score:\", z_score)"
      ]
    },
    {
      "cell_type": "markdown",
      "metadata": {
        "id": "xE838xNpGn7r"
      },
      "source": [
        "# Pelatihan Model Klasifikasi Dengan Kombinasi Antara Naive Bayes dan K-Neirest Neighbors"
      ]
    },
    {
      "cell_type": "code",
      "execution_count": null,
      "metadata": {
        "colab": {
          "base_uri": "https://localhost:8080/"
        },
        "id": "HRruhsTsG7T5",
        "outputId": "55abb8ad-b2f7-442c-86bf-ffe0c5f74f29"
      },
      "outputs": [
        {
          "name": "stdout",
          "output_type": "stream",
          "text": [
            "Model Piutang disimpan.\n"
          ]
        }
      ],
      "source": [
        "import joblib\n",
        "from sklearn.ensemble import VotingClassifier\n",
        "\n",
        "nb = GaussianNB()\n",
        "knn = KNeighborsClassifier()\n",
        "\n",
        "combined_model = VotingClassifier(estimators=[\n",
        "    ('knn', knn),\n",
        "    ('nb', nb)\n",
        "], voting='soft')\n",
        "\n",
        "combined_model.fit(X_train, Y_train)\n",
        "\n",
        "joblib.dump(combined_model, 'model_piutang.pkl')\n",
        "print(\"Model Piutang disimpan.\")"
      ]
    },
    {
      "cell_type": "code",
      "execution_count": null,
      "metadata": {
        "colab": {
          "base_uri": "https://localhost:8080/"
        },
        "id": "w8UObBBWHkvr",
        "outputId": "06a36fce-03d0-4759-b833-87b4225c08cd"
      },
      "outputs": [
        {
          "metadata": {
            "tags": null
          },
          "name": "stdout",
          "output_type": "stream",
          "text": [
            " * Serving Flask app '__main__'\n",
            " * Debug mode: on\n"
          ]
        },
        {
          "metadata": {
            "tags": null
          },
          "name": "stderr",
          "output_type": "stream",
          "text": [
            "INFO:werkzeug:\u001b[31m\u001b[1mWARNING: This is a development server. Do not use it in a production deployment. Use a production WSGI server instead.\u001b[0m\n",
            " * Running on http://127.0.0.1:5000\n",
            "INFO:werkzeug:\u001b[33mPress CTRL+C to quit\u001b[0m\n",
            "INFO:werkzeug: * Restarting with stat\n"
          ]
        }
      ],
      "source": [
        "import flask\n",
        "from flask import Flask, request, jsonify\n",
        "import joblib\n",
        "import warnings\n",
        "warnings.filterwarnings('ignore')\n",
        "\n",
        "\n",
        "app = Flask(__name__)\n",
        "model_piutang = joblib.load('model_piutang.pkl', mmap_mode='r')\n",
        "\n",
        "def combined_y_pred(data):\n",
        "    # Lakukan prediksi piutang\n",
        "    return model_piutang.predict(data)\n",
        "\n",
        "@app.route('/predict', methods=['POST'])\n",
        "def predict():\n",
        "    data = request.json\n",
        "\n",
        "    # Konversi nilai data menjadi bilangan bulat\n",
        "    # data_int = [int(value) for value in data.values()]\n",
        "\n",
        "    # Lakukan prediksi untuk ketiga model\n",
        "    piutang_prediction = combined_y_pred([data])\n",
        "\n",
        "    def convert_to_label_piutang(prediction):\n",
        "        return \"Terlambat\" if prediction == 1 else \"Tidak Terlambat\"\n",
        "\n",
        "    # Konversi hasil prediksi menjadi label yang lebih mudah dibaca\n",
        "    piutang_label = convert_to_label_piutang(piutang_prediction)\n",
        "\n",
        "    # Kembalikan hasil prediksi untuk ketiga model dalam satu respons JSON\n",
        "    predictions = {\n",
        "        'Hasil Prediksi Piutang': piutang_label\n",
        "    }\n",
        "\n",
        "    return jsonify(predictions)\n",
        "if __name__ == '__main__':\n",
        "    app.run(debug=True)"
      ]
    }
  ],
  "metadata": {
    "colab": {
      "provenance": [],
      "mount_file_id": "1zsAmJ-KE9S3A31PAy-tNuaAn22vt7HuS",
      "authorship_tag": "ABX9TyMf/yP2q/X8VGUdCq9SEJcm",
      "include_colab_link": true
    },
    "kernelspec": {
      "display_name": "Python 3",
      "name": "python3"
    },
    "language_info": {
      "name": "python"
    }
  },
  "nbformat": 4,
  "nbformat_minor": 0
}